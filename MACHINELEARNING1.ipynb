{
 "cells": [
  {
   "cell_type": "code",
   "execution_count": 1,
   "id": "face54a3",
   "metadata": {},
   "outputs": [],
   "source": [
    "#INTRODUCTION TO NUMPY\n",
    "#WHY NUMPY IS BETTER THAN LIST?\n",
    "#->same data type===>array\n",
    "#->memory comsume===>numpy less, list high\n",
    "#->computation power===>numpy high , list less\n",
    "#->functions===>numpy high , list less"
   ]
  },
  {
   "cell_type": "code",
   "execution_count": 2,
   "id": "083b52e3",
   "metadata": {},
   "outputs": [],
   "source": [
    "import numpy as np"
   ]
  },
  {
   "cell_type": "code",
   "execution_count": 4,
   "id": "800b8f33",
   "metadata": {},
   "outputs": [
    {
     "name": "stdout",
     "output_type": "stream",
     "text": [
      "<class 'list'>\n"
     ]
    }
   ],
   "source": [
    "a=[12,43,53,65]\n",
    "print(type(a))"
   ]
  },
  {
   "cell_type": "code",
   "execution_count": 8,
   "id": "95e6bfd7",
   "metadata": {},
   "outputs": [
    {
     "data": {
      "text/plain": [
       "array([12, 43, 53, 65])"
      ]
     },
     "execution_count": 8,
     "metadata": {},
     "output_type": "execute_result"
    }
   ],
   "source": [
    "b=np.array(a)\n",
    "b"
   ]
  },
  {
   "cell_type": "code",
   "execution_count": 9,
   "id": "a62e84cb",
   "metadata": {},
   "outputs": [
    {
     "data": {
      "text/plain": [
       "numpy.ndarray"
      ]
     },
     "execution_count": 9,
     "metadata": {},
     "output_type": "execute_result"
    }
   ],
   "source": [
    "type(b)"
   ]
  },
  {
   "cell_type": "code",
   "execution_count": 13,
   "id": "61c5d712",
   "metadata": {},
   "outputs": [
    {
     "name": "stdout",
     "output_type": "stream",
     "text": [
      "enter any list=3\n",
      "enter any numer=23\n",
      "enter any numer=12\n",
      "enter any numer=43\n"
     ]
    },
    {
     "data": {
      "text/plain": [
       "array([23, 12, 43])"
      ]
     },
     "execution_count": 13,
     "metadata": {},
     "output_type": "execute_result"
    }
   ],
   "source": [
    "a=int(input(\"enter any list=\"))\n",
    "b=[]\n",
    "for i in range(a):\n",
    "    c=int(input(\"enter any numer=\"))\n",
    "    b.append(c)\n",
    "d=np.array(b)\n",
    "d"
   ]
  },
  {
   "cell_type": "markdown",
   "id": "fc6d9d06",
   "metadata": {},
   "source": [
    "# how to check size and shape of an array?"
   ]
  },
  {
   "cell_type": "code",
   "execution_count": 16,
   "id": "444c97a2",
   "metadata": {},
   "outputs": [
    {
     "name": "stdout",
     "output_type": "stream",
     "text": [
      "total shape= (3,)\n",
      "total elements= 3\n"
     ]
    }
   ],
   "source": [
    "#shape=n(row),n(column)\n",
    "#size=total_elements===>n(row)*n(column)\n",
    "print(\"total shape=\",d.shape)\n",
    "print(\"total elements=\",d.size)"
   ]
  },
  {
   "cell_type": "code",
   "execution_count": 2,
   "id": "fb606dd1",
   "metadata": {},
   "outputs": [
    {
     "data": {
      "text/plain": [
       "array([[1, 2, 3],\n",
       "       [4, 5, 6],\n",
       "       [7, 8, 9]])"
      ]
     },
     "execution_count": 2,
     "metadata": {},
     "output_type": "execute_result"
    }
   ],
   "source": [
    "import numpy as np\n",
    "a=[[1,2,3],[4,5,6],[7,8,9]]\n",
    "b=np.array(a)\n",
    "b"
   ]
  },
  {
   "cell_type": "code",
   "execution_count": 20,
   "id": "218ff4a2",
   "metadata": {},
   "outputs": [
    {
     "name": "stdout",
     "output_type": "stream",
     "text": [
      "total sisze 9\n",
      "total shape (3, 3)\n"
     ]
    }
   ],
   "source": [
    "print(\"total sisze\",b.size)\n",
    "print(\"total shape\",b.shape)"
   ]
  },
  {
   "cell_type": "code",
   "execution_count": 21,
   "id": "42331ff4",
   "metadata": {},
   "outputs": [],
   "source": [
    "#image===>pixels===>(0,255)px===>0px(complete black) and 255px(complete white)\n",
    "#convert==>grayscale image\n",
    "#image(pixels)==>normalization(0-1)==>0px(black),1px(white)\n",
    "#0-1 ==>neoren system\n",
    "#matrix==>rowns and column\n",
    "#symmetric matrix=no. of rows=no. of column\n",
    "#asymmetric matrix=row!=column\n",
    "#diagonal matrix==>(1,1)(2,2)(3,3)........(n,n)\n"
   ]
  },
  {
   "cell_type": "markdown",
   "id": "337a5ca3",
   "metadata": {},
   "source": [
    "# (1).zeros()===>it will create an array in which all the elements is zero "
   ]
  },
  {
   "cell_type": "code",
   "execution_count": 22,
   "id": "729a0b0e",
   "metadata": {},
   "outputs": [
    {
     "data": {
      "text/plain": [
       "array([0., 0.])"
      ]
     },
     "execution_count": 22,
     "metadata": {},
     "output_type": "execute_result"
    }
   ],
   "source": [
    "a=np.zeros(2)\n",
    "a"
   ]
  },
  {
   "cell_type": "code",
   "execution_count": 28,
   "id": "09a94642",
   "metadata": {},
   "outputs": [
    {
     "data": {
      "text/plain": [
       "array([[0., 0., 0., 0., 0., 0.],\n",
       "       [0., 0., 0., 0., 0., 0.]])"
      ]
     },
     "execution_count": 28,
     "metadata": {},
     "output_type": "execute_result"
    }
   ],
   "source": [
    "b=np.zeros((2,6))\n",
    "b"
   ]
  },
  {
   "cell_type": "code",
   "execution_count": 29,
   "id": "96cbb909",
   "metadata": {},
   "outputs": [
    {
     "data": {
      "text/plain": [
       "(2, 6)"
      ]
     },
     "execution_count": 29,
     "metadata": {},
     "output_type": "execute_result"
    }
   ],
   "source": [
    "a=np.shape(b)\n",
    "a"
   ]
  },
  {
   "cell_type": "markdown",
   "id": "e3153222",
   "metadata": {},
   "source": [
    "# (2).ones()===>it will create an array in which all the elements are one"
   ]
  },
  {
   "cell_type": "code",
   "execution_count": 30,
   "id": "71bc071a",
   "metadata": {},
   "outputs": [
    {
     "data": {
      "text/plain": [
       "array([1., 1., 1.])"
      ]
     },
     "execution_count": 30,
     "metadata": {},
     "output_type": "execute_result"
    }
   ],
   "source": [
    "a=np.ones(3)\n",
    "a"
   ]
  },
  {
   "cell_type": "code",
   "execution_count": 33,
   "id": "54ced2cf",
   "metadata": {},
   "outputs": [
    {
     "data": {
      "text/plain": [
       "array([[1., 1., 1.],\n",
       "       [1., 1., 1.],\n",
       "       [1., 1., 1.]])"
      ]
     },
     "execution_count": 33,
     "metadata": {},
     "output_type": "execute_result"
    }
   ],
   "source": [
    "b=np.ones((3,3))\n",
    "b"
   ]
  },
  {
   "cell_type": "code",
   "execution_count": 34,
   "id": "58bf3f8c",
   "metadata": {},
   "outputs": [
    {
     "data": {
      "text/plain": [
       "(3, 3)"
      ]
     },
     "execution_count": 34,
     "metadata": {},
     "output_type": "execute_result"
    }
   ],
   "source": [
    "np.shape(b)"
   ]
  },
  {
   "cell_type": "markdown",
   "id": "7c66c007",
   "metadata": {},
   "source": [
    "# (3).eye()==>this function create an array in whichh diagonal position element are 1 and rest of all are 0"
   ]
  },
  {
   "cell_type": "code",
   "execution_count": 35,
   "id": "ddb33554",
   "metadata": {},
   "outputs": [
    {
     "data": {
      "text/plain": [
       "array([[1., 0., 0., 0.],\n",
       "       [0., 1., 0., 0.],\n",
       "       [0., 0., 1., 0.]])"
      ]
     },
     "execution_count": 35,
     "metadata": {},
     "output_type": "execute_result"
    }
   ],
   "source": [
    "a=np.eye(3,4)   #asymmetric matrix\n",
    "a"
   ]
  },
  {
   "cell_type": "code",
   "execution_count": 39,
   "id": "b88b7fbd",
   "metadata": {},
   "outputs": [
    {
     "data": {
      "text/plain": [
       "array([[1., 0., 0., 0.],\n",
       "       [0., 1., 0., 0.],\n",
       "       [0., 0., 1., 0.],\n",
       "       [0., 0., 0., 1.]])"
      ]
     },
     "execution_count": 39,
     "metadata": {},
     "output_type": "execute_result"
    }
   ],
   "source": [
    "a=np.eye(4,4)   #symmetric matrix\n",
    "a"
   ]
  },
  {
   "cell_type": "markdown",
   "id": "2c521659",
   "metadata": {},
   "source": [
    "# LAMBDA FUNCTION"
   ]
  },
  {
   "cell_type": "code",
   "execution_count": 1,
   "id": "e8fffbfe",
   "metadata": {},
   "outputs": [
    {
     "data": {
      "text/plain": [
       "20"
      ]
     },
     "execution_count": 1,
     "metadata": {},
     "output_type": "execute_result"
    }
   ],
   "source": [
    "l=lambda x:x+10\n",
    "l(10)"
   ]
  },
  {
   "cell_type": "code",
   "execution_count": 2,
   "id": "98e82152",
   "metadata": {},
   "outputs": [
    {
     "data": {
      "text/plain": [
       "25"
      ]
     },
     "execution_count": 2,
     "metadata": {},
     "output_type": "execute_result"
    }
   ],
   "source": [
    "a=lambda x:x**2\n",
    "a(5)"
   ]
  },
  {
   "cell_type": "code",
   "execution_count": 34,
   "id": "da666ddb",
   "metadata": {},
   "outputs": [
    {
     "name": "stdout",
     "output_type": "stream",
     "text": [
      "odd number\n"
     ]
    }
   ],
   "source": [
    "a=lambda x:\"even number\" if x%2==0 else \"odd number\"\n",
    "print(a(49))"
   ]
  },
  {
   "cell_type": "code",
   "execution_count": 56,
   "id": "6c1f9f2a",
   "metadata": {},
   "outputs": [
    {
     "name": "stdout",
     "output_type": "stream",
     "text": [
      "Highest number =  90\n",
      "Second Highest number =  75\n"
     ]
    }
   ],
   "source": [
    "a=[23,75,35,90,67]\n",
    "a.sort()\n",
    "a.reverse()\n",
    "print(\"Highest number = \" , a[0])\n",
    "print(\"Second Highest number = \" , a[1])"
   ]
  },
  {
   "cell_type": "code",
   "execution_count": 44,
   "id": "efabccef",
   "metadata": {},
   "outputs": [
    {
     "name": "stdout",
     "output_type": "stream",
     "text": [
      "6\n"
     ]
    }
   ],
   "source": [
    "def func(n):\n",
    "    return lambda x:x+n\n",
    "a=func(2)\n",
    "print(a(4))"
   ]
  },
  {
   "cell_type": "markdown",
   "id": "04927aee",
   "metadata": {},
   "source": [
    "# MAP FUNCTION"
   ]
  },
  {
   "cell_type": "code",
   "execution_count": 15,
   "id": "28d1c1f1",
   "metadata": {},
   "outputs": [
    {
     "data": {
      "text/plain": [
       "[20, 40, 60, 80]"
      ]
     },
     "execution_count": 15,
     "metadata": {},
     "output_type": "execute_result"
    }
   ],
   "source": [
    "a=(10,20,30,40)\n",
    "b=list(map(lambda x:x+x,a))\n",
    "b"
   ]
  },
  {
   "cell_type": "code",
   "execution_count": 16,
   "id": "818c2573",
   "metadata": {},
   "outputs": [
    {
     "data": {
      "text/plain": [
       "[2, 8, 7, 13]"
      ]
     },
     "execution_count": 16,
     "metadata": {},
     "output_type": "execute_result"
    }
   ],
   "source": [
    "def func(x,y):\n",
    "    return x+y\n",
    "A=[1,2,3,4]\n",
    "B=[1,6,4,9]\n",
    "C=list(map(func,A,B))\n",
    "C"
   ]
  },
  {
   "cell_type": "code",
   "execution_count": 23,
   "id": "020aa61b",
   "metadata": {},
   "outputs": [
    {
     "data": {
      "text/plain": [
       "[['c', 'r', 'i', 'c', 'k', 'e', 't'],\n",
       " ['f', 'o', 'o', 't', 'b', 'a', 'l', 'l'],\n",
       " ['b', 'a', 's', 'k', 'e', 't', 'b', 'a', 'l', 'l']]"
      ]
     },
     "execution_count": 23,
     "metadata": {},
     "output_type": "execute_result"
    }
   ],
   "source": [
    "a=[\"cricket\",\"football\",\"basketball\"]\n",
    "b=list(map(lambda x:[i for i in x],a))\n",
    "b"
   ]
  },
  {
   "cell_type": "code",
   "execution_count": null,
   "id": "56a0a06e",
   "metadata": {},
   "outputs": [],
   "source": []
  },
  {
   "cell_type": "code",
   "execution_count": null,
   "id": "f18c4768",
   "metadata": {},
   "outputs": [],
   "source": []
  },
  {
   "cell_type": "markdown",
   "id": "27fef94a",
   "metadata": {},
   "source": [
    "# MATRIX FUNCTION"
   ]
  },
  {
   "cell_type": "code",
   "execution_count": 29,
   "id": "d2e48995",
   "metadata": {},
   "outputs": [
    {
     "data": {
      "text/plain": [
       "array([[2., 2., 2.],\n",
       "       [2., 2., 2.],\n",
       "       [2., 2., 2.]])"
      ]
     },
     "execution_count": 29,
     "metadata": {},
     "output_type": "execute_result"
    }
   ],
   "source": [
    "import numpy as np\n",
    "a=np.ones((3,3))\n",
    "b=np.ones((3,3))\n",
    "a+b"
   ]
  },
  {
   "cell_type": "code",
   "execution_count": 48,
   "id": "cddfc240",
   "metadata": {},
   "outputs": [
    {
     "name": "stdout",
     "output_type": "stream",
     "text": [
      "Enter sizie:4\n",
      "Enter item:1\n",
      "Enter item:2\n",
      "Enter item:3\n",
      "Enter item:4\n"
     ]
    },
    {
     "data": {
      "text/plain": [
       "array([[1, 2],\n",
       "       [3, 4]])"
      ]
     },
     "execution_count": 48,
     "metadata": {},
     "output_type": "execute_result"
    }
   ],
   "source": [
    "a = []\n",
    "size = int(input(\"Enter sizie:\"))\n",
    "for i in range(size):\n",
    "    val = int(input(\"Enter item:\"))\n",
    "    a.append(val)\n",
    "b = np.array(a) \n",
    "b.resize(2,2)\n",
    "b"
   ]
  },
  {
   "cell_type": "markdown",
   "id": "bc4064e4",
   "metadata": {},
   "source": [
    "###### FILTER FUNCTION "
   ]
  },
  {
   "cell_type": "code",
   "execution_count": 36,
   "id": "512df846",
   "metadata": {},
   "outputs": [
    {
     "data": {
      "text/plain": [
       "[6, 8, 4]"
      ]
     },
     "execution_count": 36,
     "metadata": {},
     "output_type": "execute_result"
    }
   ],
   "source": [
    "a=[1,5,3,6,8,4]\n",
    "b=list(filter(lambda x:x%2==0,a))\n",
    "b"
   ]
  },
  {
   "cell_type": "code",
   "execution_count": 5,
   "id": "beea0828",
   "metadata": {},
   "outputs": [
    {
     "data": {
      "text/plain": [
       "['H', 'L', 'I', 'M', 'I', 'L', 'I']"
      ]
     },
     "execution_count": 5,
     "metadata": {},
     "output_type": "execute_result"
    }
   ],
   "source": [
    "a=[\"HeLlo\",\"himanshI2\",\"dolly\",\"MItaLI\"]\n",
    "b=list(filter(lambda x:x.isupper(),''.join(a)))\n",
    "b"
   ]
  },
  {
   "cell_type": "code",
   "execution_count": 9,
   "id": "5e8a2f05",
   "metadata": {},
   "outputs": [
    {
     "name": "stdout",
     "output_type": "stream",
     "text": [
      "\n",
      "Extract names starting with a vowel: ['Aadhya', 'italy']\n"
     ]
    }
   ],
   "source": [
    "a=[\"himanshi\",\"Aadhya\",\",mitali\",\"italy\"]\n",
    "def func(a):\n",
    "    return a[0].lower() in ['a', 'e', 'i', 'o', 'u']\n",
    "b = list(filter(func, a))\n",
    "print(\"\\nExtract names starting with a vowel:\",b)"
   ]
  },
  {
   "cell_type": "code",
   "execution_count": null,
   "id": "605c6e98",
   "metadata": {},
   "outputs": [],
   "source": [
    "(4).DIAG==>THIS FUNCTION CREATE A TWO DIMENSIONAL ARRAY WITH ALL THE DIAGONAL"
   ]
  }
 ],
 "metadata": {
  "kernelspec": {
   "display_name": "Python 3",
   "language": "python",
   "name": "python3"
  },
  "language_info": {
   "codemirror_mode": {
    "name": "ipython",
    "version": 3
   },
   "file_extension": ".py",
   "mimetype": "text/x-python",
   "name": "python",
   "nbconvert_exporter": "python",
   "pygments_lexer": "ipython3",
   "version": "3.8.8"
  }
 },
 "nbformat": 4,
 "nbformat_minor": 5
}
