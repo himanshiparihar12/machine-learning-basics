{
 "cells": [
  {
   "cell_type": "markdown",
   "id": "095251f4",
   "metadata": {},
   "source": [
    "# GRADIENT DECENT IN MACHINE LEANING"
   ]
  },
  {
   "cell_type": "code",
   "execution_count": 1,
   "id": "a1eb5540",
   "metadata": {},
   "outputs": [],
   "source": [
    "# WE KNOW THAT EQUATION OF SIMPLE LINE => y=mx+b\n",
    "#WE KNOW THAT \n",
    "#LOSS FUNCTION = Actual_value - Predicted_value\n",
    "#LOSS WITH RESPECT TO MEAN SQUARED ERROR\n",
    "#l = 1/n(y_actual - y_predicted)**2\n",
    "#IF n(features)=1\n",
    "#l=(y - mx-b)**2\n",
    "\n",
    "#CASE 1:- LOSS W.R.T intercept(b)\n",
    "#dl/db = 2(y - mx -b)(d(y)/db - d(mx)/db - db/db)\n",
    "#dl/db= 2(y-mx-b)(0-0-1)\n",
    "#dl/db = -2(y-mx-b) .............(1)\n",
    "\n",
    "#CASE 2:- LOSS W.R.T weights\n",
    "#dl/dm = 2(y - mx -b)(d(y)/dm - d(mx)/dm - db/dm)\n",
    "#dl/dm= 2(y-mx-b)(0-x-0)\n",
    "#dl/dm = -2(y-mx-b) (x).............(2)\n",
    "\n",
    "#b_new = b_old - leaning_rate * (dl/db) ..........(3)\n",
    "#m_new = m_old - learning_rate * (dl/dm) ...........(4)\n",
    "\n",
    "# from equation (3,4) new line will be\n",
    "# y = m_new*X + b_new  ...........(5)\n",
    "# IF learning_rate >>>>> 0 then it will be GradientExploading\n",
    "\n",
    "#IF leaning_rate <<<<<<< 0 THEN IT WILL BE Vnishing Gradient."
   ]
  },
  {
   "cell_type": "code",
   "execution_count": 2,
   "id": "5d76397c",
   "metadata": {},
   "outputs": [],
   "source": [
    "import numpy as np"
   ]
  },
  {
   "cell_type": "code",
   "execution_count": 5,
   "id": "b1f220e3",
   "metadata": {},
   "outputs": [],
   "source": [
    "from sklearn.datasets import make_regression\n",
    "import matplotlib.pyplot as plt \n",
    "import numpy as np\n",
    "from sklearn.model_selection import cross_val_score"
   ]
  },
  {
   "cell_type": "code",
   "execution_count": 6,
   "id": "122f594f",
   "metadata": {},
   "outputs": [],
   "source": [
    "x,y=make_regression(n_samples = 100 , n_features = 1,\n",
    "                   n_informative = 1 , n_targets = 1 , noise = 20 , random_state=13)"
   ]
  },
  {
   "cell_type": "code",
   "execution_count": 7,
   "id": "4a34e170",
   "metadata": {},
   "outputs": [
    {
     "data": {
      "text/plain": [
       "<matplotlib.collections.PathCollection at 0x2beefb4c8e0>"
      ]
     },
     "execution_count": 7,
     "metadata": {},
     "output_type": "execute_result"
    },
    {
     "data": {
      "image/png": "[encoded data removed]",
      "text/plain": [
       "<Figure size 432x288 with 1 Axes>"
      ]
     },
     "metadata": {
      "needs_background": "light"
     },
     "output_type": "display_data"
    }
   ],
   "source": [
    "plt.scatter(x,y)"
   ]
  },
  {
   "cell_type": "code",
   "execution_count": 8,
   "id": "439d25cf",
   "metadata": {},
   "outputs": [],
   "source": [
    "from sklearn.model_selection import train_test_split\n",
    "x_train , x_test , y_train , y_test = train_test_split(x,y,test_size=0.2,random_state=2)"
   ]
  },
  {
   "cell_type": "code",
   "execution_count": 10,
   "id": "25f9efe1",
   "metadata": {},
   "outputs": [],
   "source": [
    "from sklearn.linear_model import LinearRegression"
   ]
  },
  {
   "cell_type": "code",
   "execution_count": 13,
   "id": "35c8024f",
   "metadata": {},
   "outputs": [],
   "source": [
    "lr=LinearRegression()"
   ]
  },
  {
   "cell_type": "code",
   "execution_count": 15,
   "id": "95d96d1d",
   "metadata": {},
   "outputs": [
    {
     "name": "stdout",
     "output_type": "stream",
     "text": [
      "[28.12597332]\n",
      "-2.271014426178382\n"
     ]
    }
   ],
   "source": [
    "lr.fit(x_train,y_train)\n",
    "print(lr.coef_)\n",
    "print(lr.intercept_)"
   ]
  },
  {
   "cell_type": "code",
   "execution_count": 16,
   "id": "aced0a03",
   "metadata": {},
   "outputs": [],
   "source": [
    "#np.mean(cross_val_score(lr,x,y,scoring='r2' , cv=10))\n",
    "y_pred=lr.predict(x_test)"
   ]
  },
  {
   "cell_type": "code",
   "execution_count": 17,
   "id": "bf727fc2",
   "metadata": {},
   "outputs": [],
   "source": [
    "from sklearn.metrics import r2_score"
   ]
  },
  {
   "cell_type": "code",
   "execution_count": 18,
   "id": "4a7266b8",
   "metadata": {},
   "outputs": [
    {
     "data": {
      "text/plain": [
       "0.6345158782661013"
      ]
     },
     "execution_count": 18,
     "metadata": {},
     "output_type": "execute_result"
    }
   ],
   "source": [
    "r2_score(y_test,y_pred)"
   ]
  },
  {
   "cell_type": "code",
   "execution_count": 31,
   "id": "605dfe1b",
   "metadata": {},
   "outputs": [],
   "source": [
    "class GDRegressor:\n",
    "    def __init__(self , learning_rate , epochs):\n",
    "        self.m = 100 # WE CAN STart ANY NUMBER AS LIKE M = 0\n",
    "        self.b = -120 # WE CAN START ANY NUMBER AS LIKE B = 1\n",
    "        self.lr = learning_rate\n",
    "        self.epochs = epochs\n",
    "    \n",
    "    def fit(self , x , y):\n",
    "        #calcualte the b using GD\n",
    "        for i in range(self.epochs):\n",
    "            loss_slope_b = -2*np.sum(y-self.m*x.ravel()-self.b)\n",
    "            loss_slope_m = -2*np.sum((y-self.m* x.ravel() - self.b) * x.ravel())\n",
    "            \n",
    "            self.b=self.b - (self.lr * loss_slope_b)\n",
    "            self.m=self.m - (self.lr * loss_slope_m)\n",
    "        print(self.b , self.m)\n",
    "        \n",
    "    def predict(self , x):\n",
    "        return self.m * x + self.b"
   ]
  },
  {
   "cell_type": "code",
   "execution_count": 32,
   "id": "fc6d55c8",
   "metadata": {},
   "outputs": [],
   "source": [
    "gd=GDRegressor(0.001 , 100)"
   ]
  },
  {
   "cell_type": "code",
   "execution_count": 33,
   "id": "8c0962b4",
   "metadata": {},
   "outputs": [
    {
     "name": "stdout",
     "output_type": "stream",
     "text": [
      "-2.2710234077993587 28.12598618006269\n"
     ]
    }
   ],
   "source": [
    "gd.fit(x_train,y_train)"
   ]
  },
  {
   "cell_type": "code",
   "execution_count": 34,
   "id": "3fcd60e1",
   "metadata": {},
   "outputs": [],
   "source": [
    "#gd.predict()"
   ]
  },
  {
   "cell_type": "code",
   "execution_count": 35,
   "id": "74a1188e",
   "metadata": {},
   "outputs": [],
   "source": [
    "y_pred=gd.predict(x_test)\n",
    "from sklearn.metrics import r2_score"
   ]
  },
  {
   "cell_type": "code",
   "execution_count": 37,
   "id": "9b061d80",
   "metadata": {},
   "outputs": [
    {
     "data": {
      "text/plain": [
       "0.634515826773629"
      ]
     },
     "execution_count": 37,
     "metadata": {},
     "output_type": "execute_result"
    }
   ],
   "source": [
    "r2_score(y_test , y_pred)"
   ]
  },
  {
   "cell_type": "markdown",
   "id": "3c96e21d",
   "metadata": {},
   "source": [
    "# Gradient (stocastic) decent"
   ]
  },
  {
   "cell_type": "code",
   "execution_count": 38,
   "id": "1ddbfcaf",
   "metadata": {},
   "outputs": [],
   "source": [
    "from sklearn.datasets import load_diabetes\n",
    "import numpy as np\n",
    "from sklearn.metrics import r2_score\n",
    "from sklearn.linear_model import LinearRegression\n",
    "from sklearn.model_selection import train_test_split"
   ]
  },
  {
   "cell_type": "code",
   "execution_count": 45,
   "id": "98d66d77",
   "metadata": {},
   "outputs": [
    {
     "name": "stdout",
     "output_type": "stream",
     "text": [
      "(442, 10)\n",
      "(442,)\n"
     ]
    }
   ],
   "source": [
    "x,y=load_diabetes(return_X_y=True)\n",
    "print(x.shape)\n",
    "print(y.shape)"
   ]
  },
  {
   "cell_type": "code",
   "execution_count": 41,
   "id": "4ddf360a",
   "metadata": {},
   "outputs": [],
   "source": [
    "x_train , x_test , y_train , y_test = train_test_split(x,y,test_size=0.2,random_state=2)"
   ]
  },
  {
   "cell_type": "code",
   "execution_count": 43,
   "id": "6dca34c8",
   "metadata": {},
   "outputs": [],
   "source": [
    "reg=LinearRegression()"
   ]
  },
  {
   "cell_type": "code",
   "execution_count": 44,
   "id": "e55ec2bb",
   "metadata": {},
   "outputs": [
    {
     "data": {
      "text/plain": [
       "LinearRegression()"
      ]
     },
     "execution_count": 44,
     "metadata": {},
     "output_type": "execute_result"
    }
   ],
   "source": [
    "reg.fit(x_train,y_train)"
   ]
  },
  {
   "cell_type": "code",
   "execution_count": 48,
   "id": "2afef647",
   "metadata": {},
   "outputs": [
    {
     "data": {
      "text/plain": [
       "0.6345158782661013"
      ]
     },
     "execution_count": 48,
     "metadata": {},
     "output_type": "execute_result"
    }
   ],
   "source": [
    "y_pred=reg.predict(x_test)\n",
    "r2_score(y_test,y_pred)"
   ]
  },
  {
   "cell_type": "code",
   "execution_count": 52,
   "id": "0f52f345",
   "metadata": {},
   "outputs": [],
   "source": [
    "#NOW WE CREATE OUR OWN CLASS\n",
    "class SGDRegressor:\n",
    "    def __init__(self , learning_rate = 0.01 , epochs = 100):\n",
    "        self.coef_=None\n",
    "        self.intercept_=None\n",
    "        self.lr=learning_rate\n",
    "        self.epochs=epochs\n",
    "        \n",
    "    def fit(self , x_train , y_train):\n",
    "        #INIT OUR COEF\n",
    "        self.intercept_ = 0\n",
    "        self.coef_ = np .ones(x_train.shape[1])\n",
    "        \n",
    "        for i in range(self.epochs):\n",
    "            for j in range(x_train.shape[0]):\n",
    "                idx=np.random.randint(0,x_train.shape[0])\n",
    "                \n",
    "                y_hat=np.dot(x_train[idx] , self.coef_) + self.intercept_\n",
    "                \n",
    "                intercept_der = -2*(y_train[idx]-y_hat)\n",
    "                self.intercept_ = self.intercept_ - (self.lr * intercept_der)\n",
    "                \n",
    "                coef_der = -2*np.dot((y_train[idx] - y_hat) , x_train[idx])\n",
    "                self.coef_ = self.coef_ - (self.lr * coef_der)\n",
    "                \n",
    "        print(self.intercept_ , self.coef_)\n",
    "    def predict(self , x_test):\n",
    "        return np.dot(x_test , self.coef_) + self.intercept_"
   ]
  },
  {
   "cell_type": "code",
   "execution_count": 53,
   "id": "51df8176",
   "metadata": {},
   "outputs": [],
   "source": [
    "sgd=SGDRegressor(learning_rate=0.01 , epochs=50)"
   ]
  },
  {
   "cell_type": "code",
   "execution_count": 54,
   "id": "4424d2ba",
   "metadata": {},
   "outputs": [
    {
     "name": "stdout",
     "output_type": "stream",
     "text": [
      "-5.711613442905799 [25.95267213]\n"
     ]
    }
   ],
   "source": [
    "sgd.fit(x_train,y_train)"
   ]
  },
  {
   "cell_type": "code",
   "execution_count": 55,
   "id": "14cf6913",
   "metadata": {},
   "outputs": [],
   "source": [
    "y_pred = sgd.predict(x_test)"
   ]
  },
  {
   "cell_type": "code",
   "execution_count": 56,
   "id": "c9313760",
   "metadata": {},
   "outputs": [
    {
     "data": {
      "text/plain": [
       "array([ 15.85260866,  13.02530898,  13.21217895, -11.09289218,\n",
       "        10.89508552,  50.09657066, -17.48770022, -14.0715831 ,\n",
       "       -18.20448797, -11.74368589, -25.36954866,  10.02319728,\n",
       "         8.10397723, -25.6595385 , -24.20005472, -18.99847567,\n",
       "        19.016887  , -19.28912278,  -7.20473264, -14.70698576])"
      ]
     },
     "execution_count": 56,
     "metadata": {},
     "output_type": "execute_result"
    }
   ],
   "source": [
    "y_pred"
   ]
  },
  {
   "cell_type": "code",
   "execution_count": 57,
   "id": "75873db6",
   "metadata": {},
   "outputs": [
    {
     "data": {
      "text/plain": [
       "0.6194350842004028"
      ]
     },
     "execution_count": 57,
     "metadata": {},
     "output_type": "execute_result"
    }
   ],
   "source": [
    "r2_score(y_test,y_pred)"
   ]
  },
  {
   "cell_type": "markdown",
   "id": "8770f1a0",
   "metadata": {},
   "source": [
    "# BY THE HELP OF SKLEARN SGDREGRESSOR"
   ]
  },
  {
   "cell_type": "code",
   "execution_count": 58,
   "id": "ee66f3bb",
   "metadata": {},
   "outputs": [],
   "source": [
    "from sklearn.linear_model import SGDRegressor "
   ]
  },
  {
   "cell_type": "code",
   "execution_count": 59,
   "id": "cb228c52",
   "metadata": {},
   "outputs": [],
   "source": [
    "reg = SGDRegressor(max_iter=60 , learning_rate = 'constant' , eta0 = 0.01) \n"
   ]
  },
  {
   "cell_type": "code",
   "execution_count": 61,
   "id": "adfb9803",
   "metadata": {},
   "outputs": [
    {
     "data": {
      "text/plain": [
       "SGDRegressor(learning_rate='constant', max_iter=60)"
      ]
     },
     "execution_count": 61,
     "metadata": {},
     "output_type": "execute_result"
    }
   ],
   "source": [
    "reg.fit(x_train , y_train) "
   ]
  },
  {
   "cell_type": "code",
   "execution_count": 63,
   "id": "eba54ebc",
   "metadata": {},
   "outputs": [],
   "source": [
    "y_pred = reg.predict(x_test) "
   ]
  },
  {
   "cell_type": "code",
   "execution_count": 65,
   "id": "a3c8ea10",
   "metadata": {},
   "outputs": [
    {
     "data": {
      "text/plain": [
       "0.6334500421317346"
      ]
     },
     "execution_count": 65,
     "metadata": {},
     "output_type": "execute_result"
    }
   ],
   "source": [
    "r2_score(y_test , y_pred) "
   ]
  },
  {
   "cell_type": "code",
   "execution_count": null,
   "id": "ba932775",
   "metadata": {},
   "outputs": [],
   "source": []
  }
 ],
 "metadata": {
  "kernelspec": {
   "display_name": "Python 3",
   "language": "python",
   "name": "python3"
  },
  "language_info": {
   "codemirror_mode": {
    "name": "ipython",
    "version": 3
   },
   "file_extension": ".py",
   "mimetype": "text/x-python",
   "name": "python",
   "nbconvert_exporter": "python",
   "pygments_lexer": "ipython3",
   "version": "3.8.8"
  }
 },
 "nbformat": 4,
 "nbformat_minor": 5
}
