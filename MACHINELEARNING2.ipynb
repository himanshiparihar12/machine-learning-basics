{
 "cells": [
  {
   "cell_type": "markdown",
   "id": "7d3f7548",
   "metadata": {},
   "source": [
    "# (4).DIAG==>THIS FUNCTION CREATE A TWO DIMENSIONAL ARRAY WITH ALL THE DIAGONAL ELEMENTS AS A GIVEN VALUE AND REST ARE ZERO"
   ]
  },
  {
   "cell_type": "code",
   "execution_count": 1,
   "id": "db5a8053",
   "metadata": {},
   "outputs": [
    {
     "data": {
      "text/plain": [
       "array([[1, 0, 0, 0, 0],\n",
       "       [0, 2, 0, 0, 0],\n",
       "       [0, 0, 3, 0, 0],\n",
       "       [0, 0, 0, 4, 0],\n",
       "       [0, 0, 0, 0, 5]])"
      ]
     },
     "execution_count": 1,
     "metadata": {},
     "output_type": "execute_result"
    }
   ],
   "source": [
    "import numpy as np\n",
    "a=np.diag([1,2,3,4,5])\n",
    "a"
   ]
  },
  {
   "cell_type": "markdown",
   "id": "db16226c",
   "metadata": {},
   "source": [
    "# (5).randint==>this function is used to generate a random number between a given range"
   ]
  },
  {
   "cell_type": "markdown",
   "id": "0a676f03",
   "metadata": {},
   "source": [
    "# syntax=randint(min_value,max_max,total_number)"
   ]
  },
  {
   "cell_type": "code",
   "execution_count": 1,
   "id": "4b88a348",
   "metadata": {},
   "outputs": [
    {
     "data": {
      "text/plain": [
       "array([1, 8, 5])"
      ]
     },
     "execution_count": 1,
     "metadata": {},
     "output_type": "execute_result"
    }
   ],
   "source": [
    "import numpy as np\n",
    "a=np.random.randint(1,10,3)\n",
    "a"
   ]
  },
  {
   "cell_type": "markdown",
   "id": "a7dd250c",
   "metadata": {},
   "source": [
    "# (6).rand()==>this function is used to generate a random number between 0 to 1\n",
    "syntax=rand(number if values)"
   ]
  },
  {
   "cell_type": "code",
   "execution_count": 3,
   "id": "5b8dab24",
   "metadata": {},
   "outputs": [
    {
     "data": {
      "text/plain": [
       "array([0.01092838, 0.22814178, 0.47433428])"
      ]
     },
     "execution_count": 3,
     "metadata": {},
     "output_type": "execute_result"
    }
   ],
   "source": [
    "import numpy as np\n",
    "a=np.random.rand(3)\n",
    "a"
   ]
  },
  {
   "cell_type": "markdown",
   "id": "439dab4a",
   "metadata": {},
   "source": [
    "# (7).randn()==>this function is used to generate a random number from -3 to close 3.this may return positive or negative numbers as well"
   ]
  },
  {
   "cell_type": "code",
   "execution_count": 4,
   "id": "f8078cbe",
   "metadata": {},
   "outputs": [
    {
     "data": {
      "text/plain": [
       "array([-1.49621427, -0.57448044,  0.93414074,  1.04469386])"
      ]
     },
     "execution_count": 4,
     "metadata": {},
     "output_type": "execute_result"
    }
   ],
   "source": [
    "import numpy as np\n",
    "a=np.random.randn(4)\n",
    "a"
   ]
  },
  {
   "cell_type": "markdown",
   "id": "7f45b26b",
   "metadata": {},
   "source": [
    "# RESHAPING DATA"
   ]
  },
  {
   "cell_type": "code",
   "execution_count": 5,
   "id": "9f819c3e",
   "metadata": {},
   "outputs": [
    {
     "data": {
      "text/plain": [
       "array([13, 32,  8,  9, 22, 11, 30, 26, 14, 49, 43, 11])"
      ]
     },
     "execution_count": 5,
     "metadata": {},
     "output_type": "execute_result"
    }
   ],
   "source": [
    "import numpy as np\n",
    "a=np.random.randint(1,50,12)\n",
    "a"
   ]
  },
  {
   "cell_type": "code",
   "execution_count": 6,
   "id": "f960dfd6",
   "metadata": {},
   "outputs": [
    {
     "data": {
      "text/plain": [
       "(12,)"
      ]
     },
     "execution_count": 6,
     "metadata": {},
     "output_type": "execute_result"
    }
   ],
   "source": [
    "a.shape"
   ]
  },
  {
   "cell_type": "code",
   "execution_count": 7,
   "id": "18def8a3",
   "metadata": {},
   "outputs": [
    {
     "data": {
      "text/plain": [
       "array([[13],\n",
       "       [32],\n",
       "       [ 8],\n",
       "       [ 9],\n",
       "       [22],\n",
       "       [11],\n",
       "       [30],\n",
       "       [26],\n",
       "       [14],\n",
       "       [49],\n",
       "       [43],\n",
       "       [11]])"
      ]
     },
     "execution_count": 7,
     "metadata": {},
     "output_type": "execute_result"
    }
   ],
   "source": [
    "a=a.reshape(12,1)\n",
    "a\n"
   ]
  },
  {
   "cell_type": "code",
   "execution_count": 8,
   "id": "c4e1baba",
   "metadata": {},
   "outputs": [
    {
     "data": {
      "text/plain": [
       "array([[13, 32],\n",
       "       [ 8,  9],\n",
       "       [22, 11],\n",
       "       [30, 26],\n",
       "       [14, 49],\n",
       "       [43, 11]])"
      ]
     },
     "execution_count": 8,
     "metadata": {},
     "output_type": "execute_result"
    }
   ],
   "source": [
    "a=a.reshape(6,2)\n",
    "a"
   ]
  },
  {
   "cell_type": "code",
   "execution_count": 9,
   "id": "d9f21bc9",
   "metadata": {},
   "outputs": [
    {
     "ename": "ValueError",
     "evalue": "cannot reshape array of size 12 into shape (5,3)",
     "output_type": "error",
     "traceback": [
      "\u001b[1;31m---------------------------------------------------------------------------\u001b[0m",
      "\u001b[1;31mValueError\u001b[0m                                Traceback (most recent call last)",
      "\u001b[1;32m<ipython-input-9-d672796ba27b>\u001b[0m in \u001b[0;36m<module>\u001b[1;34m\u001b[0m\n\u001b[1;32m----> 1\u001b[1;33m \u001b[0ma\u001b[0m\u001b[1;33m=\u001b[0m\u001b[0ma\u001b[0m\u001b[1;33m.\u001b[0m\u001b[0mreshape\u001b[0m\u001b[1;33m(\u001b[0m\u001b[1;36m5\u001b[0m\u001b[1;33m,\u001b[0m\u001b[1;36m3\u001b[0m\u001b[1;33m)\u001b[0m\u001b[1;33m\u001b[0m\u001b[1;33m\u001b[0m\u001b[0m\n\u001b[0m\u001b[0;32m      2\u001b[0m \u001b[0ma\u001b[0m\u001b[1;33m\u001b[0m\u001b[1;33m\u001b[0m\u001b[0m\n",
      "\u001b[1;31mValueError\u001b[0m: cannot reshape array of size 12 into shape (5,3)"
     ]
    }
   ],
   "source": [
    "a=a.reshape(5,3)\n",
    "a"
   ]
  },
  {
   "cell_type": "code",
   "execution_count": 10,
   "id": "a0732132",
   "metadata": {},
   "outputs": [
    {
     "data": {
      "text/plain": [
       "array([[13, 32,  8,  9],\n",
       "       [22, 11, 30, 26],\n",
       "       [14, 49, 43, 11]])"
      ]
     },
     "execution_count": 10,
     "metadata": {},
     "output_type": "execute_result"
    }
   ],
   "source": [
    "a=a.reshape(3,4)\n",
    "a"
   ]
  },
  {
   "cell_type": "code",
   "execution_count": 12,
   "id": "25b2e799",
   "metadata": {},
   "outputs": [
    {
     "data": {
      "text/plain": [
       "array([26, 52, 31, 95, 60, 17, 63, 91, 16,  9, 65, 62, 73, 26, 35, 29, 60,\n",
       "        5, 17, 57, 62, 77, 59, 78, 40, 89, 93, 95, 29, 53, 40, 45, 38, 86,\n",
       "       34, 70, 16, 69, 48, 44, 42, 62, 66, 74, 78, 66, 34, 10, 12, 74, 96,\n",
       "        5, 58,  6, 94, 45, 30, 40, 16, 50,  5, 13, 19,  7])"
      ]
     },
     "execution_count": 12,
     "metadata": {},
     "output_type": "execute_result"
    }
   ],
   "source": [
    "import numpy as np\n",
    "a=np.random.randint(1,100,64)\n",
    "a"
   ]
  },
  {
   "cell_type": "code",
   "execution_count": 13,
   "id": "4018e61b",
   "metadata": {},
   "outputs": [
    {
     "data": {
      "text/plain": [
       "array([[26, 52, 31, 95, 60, 17, 63, 91, 16,  9, 65, 62, 73, 26, 35, 29,\n",
       "        60,  5, 17, 57, 62, 77, 59, 78, 40, 89, 93, 95, 29, 53, 40, 45,\n",
       "        38, 86, 34, 70, 16, 69, 48, 44, 42, 62, 66, 74, 78, 66, 34, 10,\n",
       "        12, 74, 96,  5, 58,  6, 94, 45, 30, 40, 16, 50,  5, 13, 19,  7]])"
      ]
     },
     "execution_count": 13,
     "metadata": {},
     "output_type": "execute_result"
    }
   ],
   "source": [
    "a=a.reshape(1,64)\n",
    "a"
   ]
  },
  {
   "cell_type": "code",
   "execution_count": 14,
   "id": "93b4c53d",
   "metadata": {},
   "outputs": [
    {
     "data": {
      "text/plain": [
       "array([[26],\n",
       "       [52],\n",
       "       [31],\n",
       "       [95],\n",
       "       [60],\n",
       "       [17],\n",
       "       [63],\n",
       "       [91],\n",
       "       [16],\n",
       "       [ 9],\n",
       "       [65],\n",
       "       [62],\n",
       "       [73],\n",
       "       [26],\n",
       "       [35],\n",
       "       [29],\n",
       "       [60],\n",
       "       [ 5],\n",
       "       [17],\n",
       "       [57],\n",
       "       [62],\n",
       "       [77],\n",
       "       [59],\n",
       "       [78],\n",
       "       [40],\n",
       "       [89],\n",
       "       [93],\n",
       "       [95],\n",
       "       [29],\n",
       "       [53],\n",
       "       [40],\n",
       "       [45],\n",
       "       [38],\n",
       "       [86],\n",
       "       [34],\n",
       "       [70],\n",
       "       [16],\n",
       "       [69],\n",
       "       [48],\n",
       "       [44],\n",
       "       [42],\n",
       "       [62],\n",
       "       [66],\n",
       "       [74],\n",
       "       [78],\n",
       "       [66],\n",
       "       [34],\n",
       "       [10],\n",
       "       [12],\n",
       "       [74],\n",
       "       [96],\n",
       "       [ 5],\n",
       "       [58],\n",
       "       [ 6],\n",
       "       [94],\n",
       "       [45],\n",
       "       [30],\n",
       "       [40],\n",
       "       [16],\n",
       "       [50],\n",
       "       [ 5],\n",
       "       [13],\n",
       "       [19],\n",
       "       [ 7]])"
      ]
     },
     "execution_count": 14,
     "metadata": {},
     "output_type": "execute_result"
    }
   ],
   "source": [
    "a=a.reshape(64,1)\n",
    "a"
   ]
  },
  {
   "cell_type": "code",
   "execution_count": 16,
   "id": "d5990fa6",
   "metadata": {},
   "outputs": [
    {
     "data": {
      "text/plain": [
       "array([[26, 52],\n",
       "       [31, 95],\n",
       "       [60, 17],\n",
       "       [63, 91],\n",
       "       [16,  9],\n",
       "       [65, 62],\n",
       "       [73, 26],\n",
       "       [35, 29],\n",
       "       [60,  5],\n",
       "       [17, 57],\n",
       "       [62, 77],\n",
       "       [59, 78],\n",
       "       [40, 89],\n",
       "       [93, 95],\n",
       "       [29, 53],\n",
       "       [40, 45],\n",
       "       [38, 86],\n",
       "       [34, 70],\n",
       "       [16, 69],\n",
       "       [48, 44],\n",
       "       [42, 62],\n",
       "       [66, 74],\n",
       "       [78, 66],\n",
       "       [34, 10],\n",
       "       [12, 74],\n",
       "       [96,  5],\n",
       "       [58,  6],\n",
       "       [94, 45],\n",
       "       [30, 40],\n",
       "       [16, 50],\n",
       "       [ 5, 13],\n",
       "       [19,  7]])"
      ]
     },
     "execution_count": 16,
     "metadata": {},
     "output_type": "execute_result"
    }
   ],
   "source": [
    "a=a.reshape(32,2)\n",
    "a"
   ]
  },
  {
   "cell_type": "code",
   "execution_count": 15,
   "id": "8bf0967f",
   "metadata": {},
   "outputs": [
    {
     "data": {
      "text/plain": [
       "array([[26, 52, 31, 95, 60, 17, 63, 91, 16,  9, 65, 62, 73, 26, 35, 29,\n",
       "        60,  5, 17, 57, 62, 77, 59, 78, 40, 89, 93, 95, 29, 53, 40, 45],\n",
       "       [38, 86, 34, 70, 16, 69, 48, 44, 42, 62, 66, 74, 78, 66, 34, 10,\n",
       "        12, 74, 96,  5, 58,  6, 94, 45, 30, 40, 16, 50,  5, 13, 19,  7]])"
      ]
     },
     "execution_count": 15,
     "metadata": {},
     "output_type": "execute_result"
    }
   ],
   "source": [
    "a=a.reshape(2,32)\n",
    "a"
   ]
  },
  {
   "cell_type": "code",
   "execution_count": 17,
   "id": "fd2723bb",
   "metadata": {},
   "outputs": [
    {
     "data": {
      "text/plain": [
       "array([[26, 52, 31, 95, 60, 17, 63, 91],\n",
       "       [16,  9, 65, 62, 73, 26, 35, 29],\n",
       "       [60,  5, 17, 57, 62, 77, 59, 78],\n",
       "       [40, 89, 93, 95, 29, 53, 40, 45],\n",
       "       [38, 86, 34, 70, 16, 69, 48, 44],\n",
       "       [42, 62, 66, 74, 78, 66, 34, 10],\n",
       "       [12, 74, 96,  5, 58,  6, 94, 45],\n",
       "       [30, 40, 16, 50,  5, 13, 19,  7]])"
      ]
     },
     "execution_count": 17,
     "metadata": {},
     "output_type": "execute_result"
    }
   ],
   "source": [
    "a=a.reshape(8,8)\n",
    "a"
   ]
  },
  {
   "cell_type": "code",
   "execution_count": 19,
   "id": "12d8e94c",
   "metadata": {},
   "outputs": [
    {
     "data": {
      "text/plain": [
       "array([[26, 52, 31, 95],\n",
       "       [60, 17, 63, 91],\n",
       "       [16,  9, 65, 62],\n",
       "       [73, 26, 35, 29],\n",
       "       [60,  5, 17, 57],\n",
       "       [62, 77, 59, 78],\n",
       "       [40, 89, 93, 95],\n",
       "       [29, 53, 40, 45],\n",
       "       [38, 86, 34, 70],\n",
       "       [16, 69, 48, 44],\n",
       "       [42, 62, 66, 74],\n",
       "       [78, 66, 34, 10],\n",
       "       [12, 74, 96,  5],\n",
       "       [58,  6, 94, 45],\n",
       "       [30, 40, 16, 50],\n",
       "       [ 5, 13, 19,  7]])"
      ]
     },
     "execution_count": 19,
     "metadata": {},
     "output_type": "execute_result"
    }
   ],
   "source": [
    "#\n",
    "a=a.reshape(-1,4)\n",
    "a"
   ]
  },
  {
   "cell_type": "markdown",
   "id": "e9552c28",
   "metadata": {},
   "source": [
    "# seed function()==>we know that randint function generates random number. evertime we run the program,new set of random number is genrated . so , solve this problem we will use seed function "
   ]
  },
  {
   "cell_type": "code",
   "execution_count": 21,
   "id": "dfb1bc59",
   "metadata": {},
   "outputs": [
    {
     "data": {
      "text/plain": [
       "array([79, 62, 17, 74,  9, 63, 28, 31, 81,  8, 77, 16])"
      ]
     },
     "execution_count": 21,
     "metadata": {},
     "output_type": "execute_result"
    }
   ],
   "source": [
    "import numpy as np\n",
    "np.random.seed(5)\n",
    "a=np.random.randint(1,100,12)\n",
    "a"
   ]
  },
  {
   "cell_type": "code",
   "execution_count": 24,
   "id": "75b82ea8",
   "metadata": {},
   "outputs": [
    {
     "data": {
      "text/plain": [
       "array([[332, 156],\n",
       "       [391, 254],\n",
       "       [242, 131],\n",
       "       [260, 452],\n",
       "       [333, 433],\n",
       "       [279,  50],\n",
       "       [437, 390],\n",
       "       [142, 474],\n",
       "       [419, 460],\n",
       "       [119,  75],\n",
       "       [385, 374],\n",
       "       [105, 205],\n",
       "       [270,  83],\n",
       "       [ 90, 292],\n",
       "       [447, 101],\n",
       "       [420, 418],\n",
       "       [159, 120],\n",
       "       [448, 353],\n",
       "       [147, 471],\n",
       "       [435, 209],\n",
       "       [469, 135],\n",
       "       [124, 110],\n",
       "       [ 74, 174],\n",
       "       [415, 241],\n",
       "       [161, 111],\n",
       "       [ 28, 188],\n",
       "       [474, 188],\n",
       "       [473, 336],\n",
       "       [ 26, 247],\n",
       "       [226, 313],\n",
       "       [261, 481],\n",
       "       [453,  66],\n",
       "       [492, 301],\n",
       "       [422, 204],\n",
       "       [246, 372],\n",
       "       [325, 182],\n",
       "       [204, 310],\n",
       "       [108, 176],\n",
       "       [ 61, 481],\n",
       "       [171, 199],\n",
       "       [327, 110],\n",
       "       [452, 131],\n",
       "       [157, 459],\n",
       "       [ 59,  60],\n",
       "       [ 85, 356],\n",
       "       [378, 183],\n",
       "       [184, 213],\n",
       "       [492, 238],\n",
       "       [482,  21],\n",
       "       [414, 106]])"
      ]
     },
     "execution_count": 24,
     "metadata": {},
     "output_type": "execute_result"
    }
   ],
   "source": [
    "np.random.seed(12)\n",
    "a=np.random.randint(1,500,100).reshape(50,2)\n",
    "a"
   ]
  },
  {
   "cell_type": "markdown",
   "id": "246a8c05",
   "metadata": {},
   "source": [
    "# view vs copy==>when we slice a sub array from an array,it may be done by two ways"
   ]
  },
  {
   "cell_type": "code",
   "execution_count": 25,
   "id": "19da1512",
   "metadata": {},
   "outputs": [
    {
     "data": {
      "text/plain": [
       "array([10, 20,  0,  0,  0,  0, 23])"
      ]
     },
     "execution_count": 25,
     "metadata": {},
     "output_type": "execute_result"
    }
   ],
   "source": [
    "#view\n",
    "import numpy as np\n",
    "a=np.array([10,20,43,65,35,86,23])\n",
    "b=a[2:6]\n",
    "b[:]=0\n",
    "a"
   ]
  },
  {
   "cell_type": "code",
   "execution_count": 29,
   "id": "09b8c96b",
   "metadata": {},
   "outputs": [
    {
     "data": {
      "text/plain": [
       "array([10, 20, 43, 65, 35, 86, 23])"
      ]
     },
     "execution_count": 29,
     "metadata": {},
     "output_type": "execute_result"
    }
   ],
   "source": [
    "#copy\n",
    "import numpy as np\n",
    "a=np.array([10,20,43,65,35,86,23])\n",
    "b=a[2:6].copy()\n",
    "b[:]=0\n",
    "a"
   ]
  },
  {
   "cell_type": "code",
   "execution_count": 30,
   "id": "51d4273a",
   "metadata": {},
   "outputs": [
    {
     "data": {
      "text/plain": [
       "array([0, 0, 0, 0])"
      ]
     },
     "execution_count": 30,
     "metadata": {},
     "output_type": "execute_result"
    }
   ],
   "source": [
    "b"
   ]
  },
  {
   "cell_type": "markdown",
   "id": "07d9426b",
   "metadata": {},
   "source": [
    "# conditional selection"
   ]
  },
  {
   "cell_type": "code",
   "execution_count": 32,
   "id": "65906e91",
   "metadata": {},
   "outputs": [
    {
     "data": {
      "text/plain": [
       "array([ 1,  2,  3,  4,  5,  6,  7,  8,  9, 10, 11, 12, 13, 14, 15, 16, 17,\n",
       "       18, 19])"
      ]
     },
     "execution_count": 32,
     "metadata": {},
     "output_type": "execute_result"
    }
   ],
   "source": [
    "import numpy as np\n",
    "a=np.arange(1,20)\n",
    "a"
   ]
  },
  {
   "cell_type": "code",
   "execution_count": 33,
   "id": "9c0d2077",
   "metadata": {},
   "outputs": [
    {
     "data": {
      "text/plain": [
       "array([False, False, False, False, False, False, False, False, False,\n",
       "       False,  True,  True,  True,  True,  True,  True,  True,  True,\n",
       "        True])"
      ]
     },
     "execution_count": 33,
     "metadata": {},
     "output_type": "execute_result"
    }
   ],
   "source": [
    "a>10\n"
   ]
  },
  {
   "cell_type": "code",
   "execution_count": 34,
   "id": "26b4a471",
   "metadata": {},
   "outputs": [
    {
     "data": {
      "text/plain": [
       "array([ True,  True,  True,  True,  True,  True,  True,  True,  True,\n",
       "        True,  True,  True,  True,  True, False, False, False, False,\n",
       "       False])"
      ]
     },
     "execution_count": 34,
     "metadata": {},
     "output_type": "execute_result"
    }
   ],
   "source": [
    "a<15"
   ]
  },
  {
   "cell_type": "code",
   "execution_count": 36,
   "id": "09bc5ef1",
   "metadata": {},
   "outputs": [
    {
     "data": {
      "text/plain": [
       "array([11, 12, 13, 14, 15, 16, 17, 18, 19])"
      ]
     },
     "execution_count": 36,
     "metadata": {},
     "output_type": "execute_result"
    }
   ],
   "source": [
    "b=a>10\n",
    "a[b]"
   ]
  },
  {
   "cell_type": "code",
   "execution_count": 38,
   "id": "f515143e",
   "metadata": {},
   "outputs": [
    {
     "data": {
      "text/plain": [
       "array([ 2,  4,  6,  8, 10, 12, 14, 16, 18])"
      ]
     },
     "execution_count": 38,
     "metadata": {},
     "output_type": "execute_result"
    }
   ],
   "source": [
    "a[a%2==0]"
   ]
  },
  {
   "cell_type": "code",
   "execution_count": 39,
   "id": "b49a4792",
   "metadata": {},
   "outputs": [
    {
     "data": {
      "text/plain": [
       "array([ 1,  3,  5,  7,  9, 11, 13, 15, 17, 19])"
      ]
     },
     "execution_count": 39,
     "metadata": {},
     "output_type": "execute_result"
    }
   ],
   "source": [
    "a[a%2!=0]"
   ]
  },
  {
   "cell_type": "markdown",
   "id": "ae53d8eb",
   "metadata": {},
   "source": [
    "# OPERATIONS ON ARRAY"
   ]
  },
  {
   "cell_type": "code",
   "execution_count": 42,
   "id": "d94ceb18",
   "metadata": {},
   "outputs": [
    {
     "data": {
      "text/plain": [
       "array([2, 4, 6, 8])"
      ]
     },
     "execution_count": 42,
     "metadata": {},
     "output_type": "execute_result"
    }
   ],
   "source": [
    "import numpy as np\n",
    "a=np.arange(1,5)\n",
    "a*2"
   ]
  },
  {
   "cell_type": "code",
   "execution_count": 43,
   "id": "19cffbda",
   "metadata": {},
   "outputs": [
    {
     "data": {
      "text/plain": [
       "array([3, 4, 5, 6])"
      ]
     },
     "execution_count": 43,
     "metadata": {},
     "output_type": "execute_result"
    }
   ],
   "source": [
    "a+2"
   ]
  },
  {
   "cell_type": "code",
   "execution_count": 44,
   "id": "a1bcc5fa",
   "metadata": {},
   "outputs": [
    {
     "data": {
      "text/plain": [
       "array([-1,  0,  1,  2])"
      ]
     },
     "execution_count": 44,
     "metadata": {},
     "output_type": "execute_result"
    }
   ],
   "source": [
    "a-2"
   ]
  },
  {
   "cell_type": "code",
   "execution_count": 45,
   "id": "cb9d6dd3",
   "metadata": {},
   "outputs": [
    {
     "data": {
      "text/plain": [
       "array([ 1,  4,  9, 16], dtype=int32)"
      ]
     },
     "execution_count": 45,
     "metadata": {},
     "output_type": "execute_result"
    }
   ],
   "source": [
    "a**2"
   ]
  },
  {
   "cell_type": "code",
   "execution_count": 46,
   "id": "77d9eb88",
   "metadata": {},
   "outputs": [
    {
     "data": {
      "text/plain": [
       "array([[1, 2],\n",
       "       [3, 4]])"
      ]
     },
     "execution_count": 46,
     "metadata": {},
     "output_type": "execute_result"
    }
   ],
   "source": [
    "a=np.array([1,2,3,4]).reshape(2,2)\n",
    "a"
   ]
  },
  {
   "cell_type": "code",
   "execution_count": 47,
   "id": "2c5cee0e",
   "metadata": {},
   "outputs": [
    {
     "data": {
      "text/plain": [
       "array([[3, 6],\n",
       "       [8, 6]])"
      ]
     },
     "execution_count": 47,
     "metadata": {},
     "output_type": "execute_result"
    }
   ],
   "source": [
    "b=np.array([3,6,8,6]).reshape(2,2)\n",
    "b"
   ]
  },
  {
   "cell_type": "code",
   "execution_count": 48,
   "id": "337e41eb",
   "metadata": {},
   "outputs": [
    {
     "data": {
      "text/plain": [
       "array([[ 4,  8],\n",
       "       [11, 10]])"
      ]
     },
     "execution_count": 48,
     "metadata": {},
     "output_type": "execute_result"
    }
   ],
   "source": [
    "a+b"
   ]
  },
  {
   "cell_type": "code",
   "execution_count": 49,
   "id": "15e72c6c",
   "metadata": {},
   "outputs": [
    {
     "data": {
      "text/plain": [
       "array([[2, 4],\n",
       "       [5, 2]])"
      ]
     },
     "execution_count": 49,
     "metadata": {},
     "output_type": "execute_result"
    }
   ],
   "source": [
    "b-a\n"
   ]
  },
  {
   "cell_type": "code",
   "execution_count": 50,
   "id": "a0871fa0",
   "metadata": {},
   "outputs": [
    {
     "data": {
      "text/plain": [
       "array([[ 3, 12],\n",
       "       [24, 24]])"
      ]
     },
     "execution_count": 50,
     "metadata": {},
     "output_type": "execute_result"
    }
   ],
   "source": [
    "a*b"
   ]
  },
  {
   "cell_type": "code",
   "execution_count": 51,
   "id": "d3deb122",
   "metadata": {},
   "outputs": [
    {
     "data": {
      "text/plain": [
       "array([[19, 18],\n",
       "       [41, 42]])"
      ]
     },
     "execution_count": 51,
     "metadata": {},
     "output_type": "execute_result"
    }
   ],
   "source": [
    "a.dot(b)"
   ]
  },
  {
   "cell_type": "markdown",
   "id": "cb300b0f",
   "metadata": {},
   "source": [
    "# some more important numpy function"
   ]
  },
  {
   "cell_type": "code",
   "execution_count": 53,
   "id": "d2f2a11d",
   "metadata": {},
   "outputs": [
    {
     "data": {
      "text/plain": [
       "10"
      ]
     },
     "execution_count": 53,
     "metadata": {},
     "output_type": "execute_result"
    }
   ],
   "source": [
    "import numpy as np\n",
    "a=np.array([10,20,30,40,50])\n",
    "np.min(a)"
   ]
  },
  {
   "cell_type": "code",
   "execution_count": 54,
   "id": "fcd74ec4",
   "metadata": {},
   "outputs": [
    {
     "data": {
      "text/plain": [
       "10"
      ]
     },
     "execution_count": 54,
     "metadata": {},
     "output_type": "execute_result"
    }
   ],
   "source": [
    "np.min(a)"
   ]
  },
  {
   "cell_type": "code",
   "execution_count": 55,
   "id": "c107c06d",
   "metadata": {},
   "outputs": [
    {
     "data": {
      "text/plain": [
       "0"
      ]
     },
     "execution_count": 55,
     "metadata": {},
     "output_type": "execute_result"
    }
   ],
   "source": [
    "np.argmin(a) #arg index value "
   ]
  },
  {
   "cell_type": "code",
   "execution_count": 56,
   "id": "448a9a12",
   "metadata": {},
   "outputs": [
    {
     "data": {
      "text/plain": [
       "4"
      ]
     },
     "execution_count": 56,
     "metadata": {},
     "output_type": "execute_result"
    }
   ],
   "source": [
    "np.argmax(a)"
   ]
  },
  {
   "cell_type": "code",
   "execution_count": 58,
   "id": "71533fe8",
   "metadata": {},
   "outputs": [
    {
     "data": {
      "text/plain": [
       "array([3.16227766, 4.47213595, 5.47722558, 6.32455532, 7.07106781])"
      ]
     },
     "execution_count": 58,
     "metadata": {},
     "output_type": "execute_result"
    }
   ],
   "source": [
    "np.sqrt(a)"
   ]
  },
  {
   "cell_type": "code",
   "execution_count": 59,
   "id": "c5ada446",
   "metadata": {},
   "outputs": [
    {
     "data": {
      "text/plain": [
       "array([-0.54402111,  0.91294525, -0.98803162,  0.74511316, -0.26237485])"
      ]
     },
     "execution_count": 59,
     "metadata": {},
     "output_type": "execute_result"
    }
   ],
   "source": [
    "np.sin(a)"
   ]
  },
  {
   "cell_type": "markdown",
   "id": "ae762250",
   "metadata": {},
   "source": [
    "# linspace()==>this function returns value between a given range and with a same gap between consicutive elements"
   ]
  },
  {
   "cell_type": "code",
   "execution_count": 60,
   "id": "2d2e7733",
   "metadata": {},
   "outputs": [
    {
     "data": {
      "text/plain": [
       "array([1.  , 1.25, 1.5 , 1.75, 2.  ])"
      ]
     },
     "execution_count": 60,
     "metadata": {},
     "output_type": "execute_result"
    }
   ],
   "source": [
    "import numpy as np\n",
    "a=np.linspace(1,2,5)\n",
    "a"
   ]
  },
  {
   "cell_type": "markdown",
   "id": "11075955",
   "metadata": {},
   "source": [
    "# np.unique(arr,return_index=True , return counts=true)"
   ]
  },
  {
   "cell_type": "code",
   "execution_count": 61,
   "id": "a9923565",
   "metadata": {},
   "outputs": [
    {
     "data": {
      "text/plain": [
       "(array([10, 20, 30, 40, 50]),\n",
       " array([0, 1, 2, 3, 4], dtype=int64),\n",
       " array([1, 1, 1, 1, 1], dtype=int64))"
      ]
     },
     "execution_count": 61,
     "metadata": {},
     "output_type": "execute_result"
    }
   ],
   "source": [
    "#returns 3 array (1)=the array unique values\n",
    "#(2).the array with respective index values\n",
    "#(3).the array with counting of frequency\n",
    "a=np.array([10,20,30,40,50])\n",
    "np.unique(a,return_index=True,return_counts=True)"
   ]
  },
  {
   "cell_type": "markdown",
   "id": "342be4e0",
   "metadata": {},
   "source": [
    "# horizontal and vertical stacking"
   ]
  },
  {
   "cell_type": "code",
   "execution_count": 62,
   "id": "a9ac24cc",
   "metadata": {},
   "outputs": [
    {
     "data": {
      "text/plain": [
       "array([1, 2, 3, 4])"
      ]
     },
     "execution_count": 62,
     "metadata": {},
     "output_type": "execute_result"
    }
   ],
   "source": [
    "a=np.array([1,2,3,4])\n",
    "b=np.array([5,6,7,8])\n",
    "a"
   ]
  },
  {
   "cell_type": "code",
   "execution_count": 63,
   "id": "e1f1d8f4",
   "metadata": {},
   "outputs": [
    {
     "data": {
      "text/plain": [
       "array([5, 6, 7, 8])"
      ]
     },
     "execution_count": 63,
     "metadata": {},
     "output_type": "execute_result"
    }
   ],
   "source": [
    "b"
   ]
  },
  {
   "cell_type": "code",
   "execution_count": 64,
   "id": "56f7bfb8",
   "metadata": {},
   "outputs": [
    {
     "data": {
      "text/plain": [
       "array([1, 2, 3, 4, 5, 6, 7, 8])"
      ]
     },
     "execution_count": 64,
     "metadata": {},
     "output_type": "execute_result"
    }
   ],
   "source": [
    "np.hstack((a,b))"
   ]
  },
  {
   "cell_type": "code",
   "execution_count": 65,
   "id": "bbd3c6ed",
   "metadata": {},
   "outputs": [
    {
     "data": {
      "text/plain": [
       "array([[1, 2, 3, 4],\n",
       "       [5, 6, 7, 8]])"
      ]
     },
     "execution_count": 65,
     "metadata": {},
     "output_type": "execute_result"
    }
   ],
   "source": [
    "np.vstack((a,b))"
   ]
  },
  {
   "cell_type": "code",
   "execution_count": null,
   "id": "6879e6b9",
   "metadata": {},
   "outputs": [],
   "source": []
  }
 ],
 "metadata": {
  "kernelspec": {
   "display_name": "Python 3",
   "language": "python",
   "name": "python3"
  },
  "language_info": {
   "codemirror_mode": {
    "name": "ipython",
    "version": 3
   },
   "file_extension": ".py",
   "mimetype": "text/x-python",
   "name": "python",
   "nbconvert_exporter": "python",
   "pygments_lexer": "ipython3",
   "version": "3.8.8"
  }
 },
 "nbformat": 4,
 "nbformat_minor": 5
}
