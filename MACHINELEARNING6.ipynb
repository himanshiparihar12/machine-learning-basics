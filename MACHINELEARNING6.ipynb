{
 "cells": [
  {
   "cell_type": "markdown",
   "id": "b6295859",
   "metadata": {},
   "source": [
    "# ENCODING\n",
    "#THIS IS THE METHOD TO CONVERT CATEGORICAL DATA INTO NUMERICAL DATA"
   ]
  },
  {
   "cell_type": "code",
   "execution_count": 1,
   "id": "2908eaf7",
   "metadata": {},
   "outputs": [],
   "source": [
    "#(1).LABELENCODING====>USING THIS METHOD , we can convert our target or one dimensional data"
   ]
  },
  {
   "cell_type": "code",
   "execution_count": 45,
   "id": "22766b34",
   "metadata": {},
   "outputs": [],
   "source": [
    "import numpy as np\n",
    "import pandas as pd"
   ]
  },
  {
   "cell_type": "code",
   "execution_count": 46,
   "id": "cf500df3",
   "metadata": {},
   "outputs": [],
   "source": [
    "df=pd.read_csv(\"C:\\\\Users\\\\us\\\\OneDrive\\\\Desktop\\\\regexml\\\\covid_toy.csv\")"
   ]
  },
  {
   "cell_type": "code",
   "execution_count": 47,
   "id": "4a9113da",
   "metadata": {},
   "outputs": [
    {
     "data": {
      "text/html": [
       "<div>\n",
       "<style scoped>\n",
       "    .dataframe tbody tr th:only-of-type {\n",
       "        vertical-align: middle;\n",
       "    }\n",
       "\n",
       "    .dataframe tbody tr th {\n",
       "        vertical-align: top;\n",
       "    }\n",
       "\n",
       "    .dataframe thead th {\n",
       "        text-align: right;\n",
       "    }\n",
       "</style>\n",
       "<table border=\"1\" class=\"dataframe\">\n",
       "  <thead>\n",
       "    <tr style=\"text-align: right;\">\n",
       "      <th></th>\n",
       "      <th>age</th>\n",
       "      <th>gender</th>\n",
       "      <th>fever</th>\n",
       "      <th>cough</th>\n",
       "      <th>city</th>\n",
       "      <th>has_covid</th>\n",
       "    </tr>\n",
       "  </thead>\n",
       "  <tbody>\n",
       "    <tr>\n",
       "      <th>0</th>\n",
       "      <td>60</td>\n",
       "      <td>Male</td>\n",
       "      <td>103.0</td>\n",
       "      <td>Mild</td>\n",
       "      <td>Kolkata</td>\n",
       "      <td>No</td>\n",
       "    </tr>\n",
       "    <tr>\n",
       "      <th>1</th>\n",
       "      <td>27</td>\n",
       "      <td>Male</td>\n",
       "      <td>100.0</td>\n",
       "      <td>Mild</td>\n",
       "      <td>Delhi</td>\n",
       "      <td>Yes</td>\n",
       "    </tr>\n",
       "  </tbody>\n",
       "</table>\n",
       "</div>"
      ],
      "text/plain": [
       "   age gender  fever cough     city has_covid\n",
       "0   60   Male  103.0  Mild  Kolkata        No\n",
       "1   27   Male  100.0  Mild    Delhi       Yes"
      ]
     },
     "execution_count": 47,
     "metadata": {},
     "output_type": "execute_result"
    }
   ],
   "source": [
    "df.head(2)"
   ]
  },
  {
   "cell_type": "code",
   "execution_count": 48,
   "id": "67ed4120",
   "metadata": {},
   "outputs": [],
   "source": [
    "df=df.dropna()"
   ]
  },
  {
   "cell_type": "code",
   "execution_count": 49,
   "id": "8b1a956d",
   "metadata": {},
   "outputs": [],
   "source": [
    "from sklearn.preprocessing import LabelEncoder"
   ]
  },
  {
   "cell_type": "code",
   "execution_count": 50,
   "id": "240d8fa0",
   "metadata": {},
   "outputs": [],
   "source": [
    "lb=LabelEncoder()"
   ]
  },
  {
   "cell_type": "code",
   "execution_count": 51,
   "id": "2b87235b",
   "metadata": {},
   "outputs": [],
   "source": [
    "df['gender']=lb.fit_transform(df['gender'])\n",
    "df['cough']=lb.fit_transform(df['cough'])\n",
    "df['city']=lb.fit_transform(df['city'])\n",
    "df['has_covid']=lb.fit_transform(df['has_covid'])"
   ]
  },
  {
   "cell_type": "code",
   "execution_count": 52,
   "id": "130b0cb2",
   "metadata": {},
   "outputs": [
    {
     "data": {
      "text/html": [
       "<div>\n",
       "<style scoped>\n",
       "    .dataframe tbody tr th:only-of-type {\n",
       "        vertical-align: middle;\n",
       "    }\n",
       "\n",
       "    .dataframe tbody tr th {\n",
       "        vertical-align: top;\n",
       "    }\n",
       "\n",
       "    .dataframe thead th {\n",
       "        text-align: right;\n",
       "    }\n",
       "</style>\n",
       "<table border=\"1\" class=\"dataframe\">\n",
       "  <thead>\n",
       "    <tr style=\"text-align: right;\">\n",
       "      <th></th>\n",
       "      <th>age</th>\n",
       "      <th>gender</th>\n",
       "      <th>fever</th>\n",
       "      <th>cough</th>\n",
       "      <th>city</th>\n",
       "      <th>has_covid</th>\n",
       "    </tr>\n",
       "  </thead>\n",
       "  <tbody>\n",
       "    <tr>\n",
       "      <th>24</th>\n",
       "      <td>13</td>\n",
       "      <td>0</td>\n",
       "      <td>100.0</td>\n",
       "      <td>1</td>\n",
       "      <td>2</td>\n",
       "      <td>0</td>\n",
       "    </tr>\n",
       "    <tr>\n",
       "      <th>60</th>\n",
       "      <td>24</td>\n",
       "      <td>0</td>\n",
       "      <td>102.0</td>\n",
       "      <td>1</td>\n",
       "      <td>0</td>\n",
       "      <td>1</td>\n",
       "    </tr>\n",
       "    <tr>\n",
       "      <th>33</th>\n",
       "      <td>26</td>\n",
       "      <td>0</td>\n",
       "      <td>98.0</td>\n",
       "      <td>0</td>\n",
       "      <td>2</td>\n",
       "      <td>0</td>\n",
       "    </tr>\n",
       "    <tr>\n",
       "      <th>8</th>\n",
       "      <td>19</td>\n",
       "      <td>0</td>\n",
       "      <td>100.0</td>\n",
       "      <td>1</td>\n",
       "      <td>0</td>\n",
       "      <td>0</td>\n",
       "    </tr>\n",
       "    <tr>\n",
       "      <th>65</th>\n",
       "      <td>69</td>\n",
       "      <td>0</td>\n",
       "      <td>102.0</td>\n",
       "      <td>0</td>\n",
       "      <td>0</td>\n",
       "      <td>0</td>\n",
       "    </tr>\n",
       "  </tbody>\n",
       "</table>\n",
       "</div>"
      ],
      "text/plain": [
       "    age  gender  fever  cough  city  has_covid\n",
       "24   13       0  100.0      1     2          0\n",
       "60   24       0  102.0      1     0          1\n",
       "33   26       0   98.0      0     2          0\n",
       "8    19       0  100.0      1     0          0\n",
       "65   69       0  102.0      0     0          0"
      ]
     },
     "execution_count": 52,
     "metadata": {},
     "output_type": "execute_result"
    }
   ],
   "source": [
    "df.sample(5)"
   ]
  },
  {
   "cell_type": "code",
   "execution_count": 53,
   "id": "ca1ea2ff",
   "metadata": {},
   "outputs": [],
   "source": [
    "from sklearn.preprocessing import StandardScaler\n"
   ]
  },
  {
   "cell_type": "code",
   "execution_count": 54,
   "id": "117f569d",
   "metadata": {},
   "outputs": [],
   "source": [
    "sc=StandardScaler()"
   ]
  },
  {
   "cell_type": "code",
   "execution_count": 55,
   "id": "9b41abf4",
   "metadata": {},
   "outputs": [],
   "source": [
    "df_sc=sc.fit_transform(df)"
   ]
  },
  {
   "cell_type": "code",
   "execution_count": 56,
   "id": "b465cdf6",
   "metadata": {},
   "outputs": [
    {
     "data": {
      "text/plain": [
       "array([[ 0.69167104,  1.22474487,  1.05484645, -0.76088591,  0.66110998,\n",
       "        -0.85485041],\n",
       "       [-0.65450392,  1.22474487, -0.41323882, -0.76088591, -0.28333285,\n",
       "         1.1697953 ],\n",
       "       [-0.04260621,  1.22474487,  0.07612294, -0.76088591, -0.28333285,\n",
       "        -0.85485041],\n",
       "       [-0.4913312 , -0.81649658, -1.39196233, -0.76088591,  0.66110998,\n",
       "        -0.85485041],\n",
       "       [ 0.89563694, -0.81649658,  0.07612294, -0.76088591,  1.6055528 ,\n",
       "        -0.85485041],\n",
       "       [-1.18481526,  1.22474487,  0.07612294,  1.31425748, -1.22777567,\n",
       "        -0.85485041],\n",
       "       [-0.98084936, -0.81649658, -0.41323882,  1.31425748, -1.22777567,\n",
       "        -0.85485041],\n",
       "       [ 0.85484376, -0.81649658,  0.07612294, -0.76088591, -0.28333285,\n",
       "        -0.85485041],\n",
       "       [ 0.89563694, -0.81649658, -1.39196233, -0.76088591,  1.6055528 ,\n",
       "         1.1697953 ],\n",
       "       [-0.73609028, -0.81649658, -0.90260057,  1.31425748,  0.66110998,\n",
       "        -0.85485041],\n",
       "       [ 0.85484376,  1.22474487,  0.5654847 , -0.76088591, -1.22777567,\n",
       "         1.1697953 ],\n",
       "       [ 0.32453241,  1.22474487,  1.54420821, -0.76088591, -1.22777567,\n",
       "        -0.85485041],\n",
       "       [ 1.09960284,  1.22474487,  1.05484645,  1.31425748,  0.66110998,\n",
       "         1.1697953 ],\n",
       "       [ 1.05880966, -0.81649658,  1.05484645, -0.76088591,  0.66110998,\n",
       "         1.1697953 ],\n",
       "       [-0.12419257, -0.81649658, -1.39196233,  1.31425748, -0.28333285,\n",
       "        -0.85485041],\n",
       "       [ 0.85484376, -0.81649658, -1.39196233, -0.76088591, -1.22777567,\n",
       "         1.1697953 ],\n",
       "       [-1.26640162,  1.22474487, -1.39196233,  1.31425748, -1.22777567,\n",
       "        -0.85485041],\n",
       "       [ 1.22198238,  1.22474487, -1.39196233, -0.76088591, -1.22777567,\n",
       "         1.1697953 ],\n",
       "       [ 1.14039602, -0.81649658, -1.39196233,  1.31425748,  0.66110998,\n",
       "         1.1697953 ],\n",
       "       [ 1.50753465, -0.81649658, -1.39196233, -0.76088591, -0.28333285,\n",
       "         1.1697953 ],\n",
       "       [-1.22560844, -0.81649658, -0.41323882,  1.31425748,  0.66110998,\n",
       "        -0.85485041],\n",
       "       [-0.98084936, -0.81649658, -0.41323882, -0.76088591,  0.66110998,\n",
       "         1.1697953 ],\n",
       "       [-0.40974483, -0.81649658,  0.5654847 ,  1.31425748, -0.28333285,\n",
       "        -0.85485041],\n",
       "       [-1.1032289 ,  1.22474487,  1.54420821, -0.76088591,  0.66110998,\n",
       "        -0.85485041],\n",
       "       [-1.14402208,  1.22474487,  0.07612294, -0.76088591, -0.28333285,\n",
       "         1.1697953 ],\n",
       "       [ 1.62991419,  1.22474487,  1.05484645, -0.76088591,  0.66110998,\n",
       "        -0.85485041],\n",
       "       [-0.36895165, -0.81649658,  0.07612294,  1.31425748, -0.28333285,\n",
       "         1.1697953 ],\n",
       "       [-0.6952971 , -0.81649658, -1.39196233, -0.76088591,  0.66110998,\n",
       "        -0.85485041],\n",
       "       [ 1.26277556,  1.22474487,  0.5654847 , -0.76088591,  1.6055528 ,\n",
       "         1.1697953 ],\n",
       "       [ 1.58912101, -0.81649658,  0.5654847 ,  1.31425748, -1.22777567,\n",
       "        -0.85485041],\n",
       "       [-0.20577893, -0.81649658,  0.07612294, -0.76088591, -1.22777567,\n",
       "        -0.85485041],\n",
       "       [ 0.48770514,  1.22474487, -0.41323882, -0.76088591,  0.66110998,\n",
       "        -0.85485041],\n",
       "       [ 0.24294605, -0.81649658,  0.07612294, -0.76088591, -0.28333285,\n",
       "         1.1697953 ],\n",
       "       [ 0.28373923, -0.81649658,  1.05484645, -0.76088591,  0.66110998,\n",
       "        -0.85485041],\n",
       "       [ 0.24294605, -0.81649658,  0.5654847 , -0.76088591, -0.28333285,\n",
       "        -0.85485041],\n",
       "       [-0.65450392,  1.22474487, -0.41323882, -0.76088591, -0.28333285,\n",
       "         1.1697953 ],\n",
       "       [-0.85846982, -0.81649658, -0.90260057, -0.76088591, -1.22777567,\n",
       "         1.1697953 ],\n",
       "       [-0.94005618,  1.22474487,  0.5654847 ,  1.31425748, -0.28333285,\n",
       "        -0.85485041],\n",
       "       [ 1.1811892 ,  1.22474487, -0.90260057, -0.76088591, -1.22777567,\n",
       "        -0.85485041],\n",
       "       [-0.98084936, -0.81649658,  0.07612294, -0.76088591,  1.6055528 ,\n",
       "        -0.85485041],\n",
       "       [-1.02164254, -0.81649658,  1.54420821, -0.76088591, -1.22777567,\n",
       "        -0.85485041],\n",
       "       [ 0.93643012,  1.22474487, -0.90260057,  1.31425748, -1.22777567,\n",
       "        -0.85485041],\n",
       "       [ 0.03898015,  1.22474487,  1.54420821, -0.76088591,  1.6055528 ,\n",
       "        -0.85485041],\n",
       "       [-0.98084936,  1.22474487,  0.07612294, -0.76088591, -0.28333285,\n",
       "         1.1697953 ],\n",
       "       [-1.3071948 , -0.81649658, -0.41323882,  1.31425748,  0.66110998,\n",
       "         1.1697953 ],\n",
       "       [ 0.16135969, -0.81649658, -0.41323882,  1.31425748, -1.22777567,\n",
       "         1.1697953 ],\n",
       "       [ 1.62991419,  1.22474487, -1.39196233, -0.76088591, -0.28333285,\n",
       "         1.1697953 ],\n",
       "       [ 0.69167104, -0.81649658, -0.90260057, -0.76088591,  1.6055528 ,\n",
       "         1.1697953 ],\n",
       "       [ 1.54832783, -0.81649658,  0.07612294, -0.76088591,  1.6055528 ,\n",
       "         1.1697953 ],\n",
       "       [ 0.24294605, -0.81649658, -0.90260057,  1.31425748, -1.22777567,\n",
       "        -0.85485041],\n",
       "       [-0.81767664,  1.22474487, -1.39196233,  1.31425748,  1.6055528 ,\n",
       "         1.1697953 ],\n",
       "       [-1.51116071, -0.81649658,  1.54420821, -0.76088591,  0.66110998,\n",
       "         1.1697953 ],\n",
       "       [-0.77688346, -0.81649658,  0.5654847 ,  1.31425748, -1.22777567,\n",
       "         1.1697953 ],\n",
       "       [ 1.54832783, -0.81649658, -1.39196233,  1.31425748,  1.6055528 ,\n",
       "        -0.85485041],\n",
       "       [ 0.52849832, -0.81649658,  1.54420821,  1.31425748, -1.22777567,\n",
       "         1.1697953 ],\n",
       "       [-1.34798798,  1.22474487, -0.41323882, -0.76088591, -1.22777567,\n",
       "        -0.85485041],\n",
       "       [-0.04260621,  1.22474487,  1.54420821, -0.76088591,  1.6055528 ,\n",
       "        -0.85485041],\n",
       "       [ 1.05880966, -0.81649658,  0.5654847 , -0.76088591, -1.22777567,\n",
       "        -0.85485041],\n",
       "       [ 0.32453241,  1.22474487,  1.54420821, -0.76088591,  0.66110998,\n",
       "        -0.85485041],\n",
       "       [ 0.89563694,  1.22474487, -0.90260057, -0.76088591, -1.22777567,\n",
       "        -0.85485041],\n",
       "       [ 0.44691195, -0.81649658,  1.54420821,  1.31425748,  0.66110998,\n",
       "        -0.85485041],\n",
       "       [ 1.22198238, -0.81649658,  1.05484645, -0.76088591, -0.28333285,\n",
       "        -0.85485041],\n",
       "       [ 1.01801648, -0.81649658,  0.07612294,  1.31425748, -0.28333285,\n",
       "        -0.85485041],\n",
       "       [ 1.30356874, -0.81649658,  1.54420821,  1.31425748, -0.28333285,\n",
       "        -0.85485041],\n",
       "       [ 1.62991419, -0.81649658,  0.07612294, -0.76088591,  0.66110998,\n",
       "        -0.85485041],\n",
       "       [-0.36895165,  1.22474487, -1.39196233,  1.31425748,  0.66110998,\n",
       "         1.1697953 ],\n",
       "       [-0.36895165, -0.81649658,  1.54420821,  1.31425748, -0.28333285,\n",
       "        -0.85485041],\n",
       "       [-1.55195389,  1.22474487,  0.5654847 , -0.76088591,  0.66110998,\n",
       "         1.1697953 ],\n",
       "       [ 1.50753465,  1.22474487, -0.41323882, -0.76088591, -1.22777567,\n",
       "         1.1697953 ],\n",
       "       [-1.42957435, -0.81649658,  0.07612294, -0.76088591,  0.66110998,\n",
       "        -0.85485041],\n",
       "       [-1.3071948 ,  1.22474487, -0.41323882, -0.76088591, -1.22777567,\n",
       "         1.1697953 ],\n",
       "       [ 0.20215287, -0.81649658,  1.05484645, -0.76088591,  0.66110998,\n",
       "         1.1697953 ],\n",
       "       [-1.18481526, -0.81649658, -0.90260057, -0.76088591,  1.6055528 ,\n",
       "         1.1697953 ],\n",
       "       [ 0.89563694,  1.22474487, -0.90260057, -0.76088591, -0.28333285,\n",
       "        -0.85485041],\n",
       "       [-0.77688346,  1.22474487, -1.39196233, -0.76088591,  0.66110998,\n",
       "         1.1697953 ],\n",
       "       [-1.06243572, -0.81649658,  1.54420821, -0.76088591,  0.66110998,\n",
       "        -0.85485041],\n",
       "       [ 1.05880966, -0.81649658, -1.39196233,  1.31425748,  1.6055528 ,\n",
       "        -0.85485041],\n",
       "       [-1.1032289 , -0.81649658,  1.05484645, -0.76088591, -1.22777567,\n",
       "         1.1697953 ],\n",
       "       [-0.73609028,  1.22474487,  1.54420821, -0.76088591, -1.22777567,\n",
       "         1.1697953 ],\n",
       "       [ 0.16135969,  1.22474487,  0.07612294,  1.31425748, -1.22777567,\n",
       "        -0.85485041],\n",
       "       [-1.55195389, -0.81649658, -0.41323882, -0.76088591,  0.66110998,\n",
       "        -0.85485041],\n",
       "       [ 0.12056651,  1.22474487,  1.05484645,  1.31425748, -1.22777567,\n",
       "        -0.85485041],\n",
       "       [ 0.65087786, -0.81649658, -0.90260057,  1.31425748, -0.28333285,\n",
       "        -0.85485041],\n",
       "       [ 1.58912101, -0.81649658,  0.5654847 ,  1.31425748,  0.66110998,\n",
       "        -0.85485041],\n",
       "       [-0.65450392,  1.22474487, -0.41323882, -0.76088591,  0.66110998,\n",
       "         1.1697953 ],\n",
       "       [-1.26640162, -0.81649658,  1.54420821, -0.76088591, -1.22777567,\n",
       "        -0.85485041],\n",
       "       [ 0.32453241, -0.81649658,  0.07612294,  1.31425748,  0.66110998,\n",
       "         1.1697953 ],\n",
       "       [-0.94005618, -0.81649658,  0.07612294, -0.76088591, -1.22777567,\n",
       "        -0.85485041],\n",
       "       [-1.55195389, -0.81649658, -1.39196233,  1.31425748,  1.6055528 ,\n",
       "        -0.85485041],\n",
       "       [-1.34798798, -0.81649658, -1.39196233,  1.31425748,  0.66110998,\n",
       "         1.1697953 ]])"
      ]
     },
     "execution_count": 56,
     "metadata": {},
     "output_type": "execute_result"
    }
   ],
   "source": [
    "df_sc"
   ]
  },
  {
   "cell_type": "code",
   "execution_count": 57,
   "id": "f02eef27",
   "metadata": {},
   "outputs": [],
   "source": [
    "df_new=pd.DataFrame(df_sc,columns=df.columns)"
   ]
  },
  {
   "cell_type": "code",
   "execution_count": 58,
   "id": "e72b355f",
   "metadata": {},
   "outputs": [
    {
     "data": {
      "text/html": [
       "<div>\n",
       "<style scoped>\n",
       "    .dataframe tbody tr th:only-of-type {\n",
       "        vertical-align: middle;\n",
       "    }\n",
       "\n",
       "    .dataframe tbody tr th {\n",
       "        vertical-align: top;\n",
       "    }\n",
       "\n",
       "    .dataframe thead th {\n",
       "        text-align: right;\n",
       "    }\n",
       "</style>\n",
       "<table border=\"1\" class=\"dataframe\">\n",
       "  <thead>\n",
       "    <tr style=\"text-align: right;\">\n",
       "      <th></th>\n",
       "      <th>age</th>\n",
       "      <th>gender</th>\n",
       "      <th>fever</th>\n",
       "      <th>cough</th>\n",
       "      <th>city</th>\n",
       "      <th>has_covid</th>\n",
       "    </tr>\n",
       "  </thead>\n",
       "  <tbody>\n",
       "    <tr>\n",
       "      <th>count</th>\n",
       "      <td>90.0</td>\n",
       "      <td>90.0</td>\n",
       "      <td>90.0</td>\n",
       "      <td>90.0</td>\n",
       "      <td>90.0</td>\n",
       "      <td>90.0</td>\n",
       "    </tr>\n",
       "    <tr>\n",
       "      <th>mean</th>\n",
       "      <td>43.0</td>\n",
       "      <td>0.4</td>\n",
       "      <td>100.8</td>\n",
       "      <td>0.4</td>\n",
       "      <td>1.3</td>\n",
       "      <td>0.4</td>\n",
       "    </tr>\n",
       "    <tr>\n",
       "      <th>std</th>\n",
       "      <td>24.7</td>\n",
       "      <td>0.5</td>\n",
       "      <td>2.1</td>\n",
       "      <td>0.5</td>\n",
       "      <td>1.1</td>\n",
       "      <td>0.5</td>\n",
       "    </tr>\n",
       "    <tr>\n",
       "      <th>min</th>\n",
       "      <td>5.0</td>\n",
       "      <td>0.0</td>\n",
       "      <td>98.0</td>\n",
       "      <td>0.0</td>\n",
       "      <td>0.0</td>\n",
       "      <td>0.0</td>\n",
       "    </tr>\n",
       "    <tr>\n",
       "      <th>25%</th>\n",
       "      <td>19.2</td>\n",
       "      <td>0.0</td>\n",
       "      <td>99.0</td>\n",
       "      <td>0.0</td>\n",
       "      <td>0.0</td>\n",
       "      <td>0.0</td>\n",
       "    </tr>\n",
       "    <tr>\n",
       "      <th>50%</th>\n",
       "      <td>45.0</td>\n",
       "      <td>0.0</td>\n",
       "      <td>101.0</td>\n",
       "      <td>0.0</td>\n",
       "      <td>1.0</td>\n",
       "      <td>0.0</td>\n",
       "    </tr>\n",
       "    <tr>\n",
       "      <th>75%</th>\n",
       "      <td>65.0</td>\n",
       "      <td>1.0</td>\n",
       "      <td>102.8</td>\n",
       "      <td>1.0</td>\n",
       "      <td>2.0</td>\n",
       "      <td>1.0</td>\n",
       "    </tr>\n",
       "    <tr>\n",
       "      <th>max</th>\n",
       "      <td>83.0</td>\n",
       "      <td>1.0</td>\n",
       "      <td>104.0</td>\n",
       "      <td>1.0</td>\n",
       "      <td>3.0</td>\n",
       "      <td>1.0</td>\n",
       "    </tr>\n",
       "  </tbody>\n",
       "</table>\n",
       "</div>"
      ],
      "text/plain": [
       "        age  gender  fever  cough  city  has_covid\n",
       "count  90.0    90.0   90.0   90.0  90.0       90.0\n",
       "mean   43.0     0.4  100.8    0.4   1.3        0.4\n",
       "std    24.7     0.5    2.1    0.5   1.1        0.5\n",
       "min     5.0     0.0   98.0    0.0   0.0        0.0\n",
       "25%    19.2     0.0   99.0    0.0   0.0        0.0\n",
       "50%    45.0     0.0  101.0    0.0   1.0        0.0\n",
       "75%    65.0     1.0  102.8    1.0   2.0        1.0\n",
       "max    83.0     1.0  104.0    1.0   3.0        1.0"
      ]
     },
     "execution_count": 58,
     "metadata": {},
     "output_type": "execute_result"
    }
   ],
   "source": [
    "np.round(df.describe(),1)"
   ]
  },
  {
   "cell_type": "code",
   "execution_count": 59,
   "id": "b825cf3e",
   "metadata": {},
   "outputs": [],
   "source": [
    "x=df.drop(columns=['has_covid'],axis=1)\n",
    "y=df['has_covid']"
   ]
  },
  {
   "cell_type": "code",
   "execution_count": 60,
   "id": "e7dadc30",
   "metadata": {},
   "outputs": [],
   "source": [
    "from sklearn.model_selection import train_test_split"
   ]
  },
  {
   "cell_type": "code",
   "execution_count": 61,
   "id": "2b43b869",
   "metadata": {},
   "outputs": [],
   "source": [
    "x_train,x_test,y_train,y_test=train_test_split(x,y,test_size=0.2,random_state=40)"
   ]
  },
  {
   "cell_type": "raw",
   "id": "5a2bcd94",
   "metadata": {},
   "source": []
  },
  {
   "cell_type": "code",
   "execution_count": 63,
   "id": "ebf3751e",
   "metadata": {},
   "outputs": [
    {
     "name": "stdout",
     "output_type": "stream",
     "text": [
      "(90, 6)\n",
      "(90, 5)\n",
      "(90,)\n",
      "(72, 5)\n",
      "(72,)\n",
      "(18, 5)\n",
      "(18,)\n"
     ]
    }
   ],
   "source": [
    "print(df.shape)\n",
    "print(x.shape)\n",
    "print(y.shape)\n",
    "print(x_train.shape)\n",
    "print(y_train.shape)\n",
    "print(x_test.shape)\n",
    "print(y_test.shape)"
   ]
  },
  {
   "cell_type": "code",
   "execution_count": 65,
   "id": "caa3a4b6",
   "metadata": {},
   "outputs": [],
   "source": [
    "from sklearn.preprocessing import MinMaxScaler"
   ]
  },
  {
   "cell_type": "markdown",
   "id": "d3ad1f75",
   "metadata": {},
   "source": [
    "mn=MinMaxScaler"
   ]
  },
  {
   "cell_type": "code",
   "execution_count": 68,
   "id": "05b6e3d7",
   "metadata": {},
   "outputs": [],
   "source": [
    "mn=MinMaxScaler()"
   ]
  },
  {
   "cell_type": "code",
   "execution_count": 69,
   "id": "52de1160",
   "metadata": {},
   "outputs": [],
   "source": [
    "x_train_mn=mn.fit_transform(x_train)"
   ]
  },
  {
   "cell_type": "code",
   "execution_count": 71,
   "id": "881d0f2d",
   "metadata": {},
   "outputs": [],
   "source": [
    "x_test_mn=mn.fit_transform(x_test)"
   ]
  },
  {
   "cell_type": "code",
   "execution_count": 72,
   "id": "efd1ed72",
   "metadata": {},
   "outputs": [],
   "source": [
    "y_train_new=pd.DataFrame(x_train_mn,columns=x_train.columns)"
   ]
  },
  {
   "cell_type": "code",
   "execution_count": 73,
   "id": "55264935",
   "metadata": {},
   "outputs": [
    {
     "data": {
      "text/html": [
       "<div>\n",
       "<style scoped>\n",
       "    .dataframe tbody tr th:only-of-type {\n",
       "        vertical-align: middle;\n",
       "    }\n",
       "\n",
       "    .dataframe tbody tr th {\n",
       "        vertical-align: top;\n",
       "    }\n",
       "\n",
       "    .dataframe thead th {\n",
       "        text-align: right;\n",
       "    }\n",
       "</style>\n",
       "<table border=\"1\" class=\"dataframe\">\n",
       "  <thead>\n",
       "    <tr style=\"text-align: right;\">\n",
       "      <th></th>\n",
       "      <th>age</th>\n",
       "      <th>bmi</th>\n",
       "      <th>children</th>\n",
       "    </tr>\n",
       "  </thead>\n",
       "  <tbody>\n",
       "    <tr>\n",
       "      <th>count</th>\n",
       "      <td>1070.0</td>\n",
       "      <td>1070.0</td>\n",
       "      <td>1070.0</td>\n",
       "    </tr>\n",
       "    <tr>\n",
       "      <th>mean</th>\n",
       "      <td>0.5</td>\n",
       "      <td>0.4</td>\n",
       "      <td>0.2</td>\n",
       "    </tr>\n",
       "    <tr>\n",
       "      <th>std</th>\n",
       "      <td>0.3</td>\n",
       "      <td>0.2</td>\n",
       "      <td>0.2</td>\n",
       "    </tr>\n",
       "    <tr>\n",
       "      <th>min</th>\n",
       "      <td>0.0</td>\n",
       "      <td>0.0</td>\n",
       "      <td>0.0</td>\n",
       "    </tr>\n",
       "    <tr>\n",
       "      <th>25%</th>\n",
       "      <td>0.2</td>\n",
       "      <td>0.3</td>\n",
       "      <td>0.0</td>\n",
       "    </tr>\n",
       "    <tr>\n",
       "      <th>50%</th>\n",
       "      <td>0.5</td>\n",
       "      <td>0.4</td>\n",
       "      <td>0.2</td>\n",
       "    </tr>\n",
       "    <tr>\n",
       "      <th>75%</th>\n",
       "      <td>0.7</td>\n",
       "      <td>0.5</td>\n",
       "      <td>0.4</td>\n",
       "    </tr>\n",
       "    <tr>\n",
       "      <th>max</th>\n",
       "      <td>1.0</td>\n",
       "      <td>1.0</td>\n",
       "      <td>1.0</td>\n",
       "    </tr>\n",
       "  </tbody>\n",
       "</table>\n",
       "</div>"
      ],
      "text/plain": [
       "          age     bmi  children\n",
       "count  1070.0  1070.0    1070.0\n",
       "mean      0.5     0.4       0.2\n",
       "std       0.3     0.2       0.2\n",
       "min       0.0     0.0       0.0\n",
       "25%       0.2     0.3       0.0\n",
       "50%       0.5     0.4       0.2\n",
       "75%       0.7     0.5       0.4\n",
       "max       1.0     1.0       1.0"
      ]
     },
     "execution_count": 73,
     "metadata": {},
     "output_type": "execute_result"
    }
   ],
   "source": [
    "np.round(x_train_new.describe(),1)"
   ]
  },
  {
   "cell_type": "markdown",
   "id": "65a8d673",
   "metadata": {},
   "source": [
    "# (2).OrdinalEncoder"
   ]
  },
  {
   "cell_type": "code",
   "execution_count": 75,
   "id": "9ef3f4ec",
   "metadata": {},
   "outputs": [],
   "source": [
    "df=pd.read_csv(\"C:\\\\Users\\\\us\\\\OneDrive\\\\Desktop\\\\regexml\\\\covid_toy.csv\")"
   ]
  },
  {
   "cell_type": "code",
   "execution_count": 76,
   "id": "2e7ec960",
   "metadata": {},
   "outputs": [
    {
     "data": {
      "text/html": [
       "<div>\n",
       "<style scoped>\n",
       "    .dataframe tbody tr th:only-of-type {\n",
       "        vertical-align: middle;\n",
       "    }\n",
       "\n",
       "    .dataframe tbody tr th {\n",
       "        vertical-align: top;\n",
       "    }\n",
       "\n",
       "    .dataframe thead th {\n",
       "        text-align: right;\n",
       "    }\n",
       "</style>\n",
       "<table border=\"1\" class=\"dataframe\">\n",
       "  <thead>\n",
       "    <tr style=\"text-align: right;\">\n",
       "      <th></th>\n",
       "      <th>age</th>\n",
       "      <th>gender</th>\n",
       "      <th>fever</th>\n",
       "      <th>cough</th>\n",
       "      <th>city</th>\n",
       "      <th>has_covid</th>\n",
       "    </tr>\n",
       "  </thead>\n",
       "  <tbody>\n",
       "    <tr>\n",
       "      <th>0</th>\n",
       "      <td>60</td>\n",
       "      <td>Male</td>\n",
       "      <td>103.0</td>\n",
       "      <td>Mild</td>\n",
       "      <td>Kolkata</td>\n",
       "      <td>No</td>\n",
       "    </tr>\n",
       "    <tr>\n",
       "      <th>1</th>\n",
       "      <td>27</td>\n",
       "      <td>Male</td>\n",
       "      <td>100.0</td>\n",
       "      <td>Mild</td>\n",
       "      <td>Delhi</td>\n",
       "      <td>Yes</td>\n",
       "    </tr>\n",
       "    <tr>\n",
       "      <th>2</th>\n",
       "      <td>42</td>\n",
       "      <td>Male</td>\n",
       "      <td>101.0</td>\n",
       "      <td>Mild</td>\n",
       "      <td>Delhi</td>\n",
       "      <td>No</td>\n",
       "    </tr>\n",
       "    <tr>\n",
       "      <th>3</th>\n",
       "      <td>31</td>\n",
       "      <td>Female</td>\n",
       "      <td>98.0</td>\n",
       "      <td>Mild</td>\n",
       "      <td>Kolkata</td>\n",
       "      <td>No</td>\n",
       "    </tr>\n",
       "    <tr>\n",
       "      <th>4</th>\n",
       "      <td>65</td>\n",
       "      <td>Female</td>\n",
       "      <td>101.0</td>\n",
       "      <td>Mild</td>\n",
       "      <td>Mumbai</td>\n",
       "      <td>No</td>\n",
       "    </tr>\n",
       "  </tbody>\n",
       "</table>\n",
       "</div>"
      ],
      "text/plain": [
       "   age  gender  fever cough     city has_covid\n",
       "0   60    Male  103.0  Mild  Kolkata        No\n",
       "1   27    Male  100.0  Mild    Delhi       Yes\n",
       "2   42    Male  101.0  Mild    Delhi        No\n",
       "3   31  Female   98.0  Mild  Kolkata        No\n",
       "4   65  Female  101.0  Mild   Mumbai        No"
      ]
     },
     "execution_count": 76,
     "metadata": {},
     "output_type": "execute_result"
    }
   ],
   "source": [
    "df.head()"
   ]
  },
  {
   "cell_type": "code",
   "execution_count": 77,
   "id": "b7384414",
   "metadata": {},
   "outputs": [],
   "source": [
    "df=df.drop(columns=['age','fever'])"
   ]
  },
  {
   "cell_type": "code",
   "execution_count": 78,
   "id": "d9681eb9",
   "metadata": {},
   "outputs": [
    {
     "data": {
      "text/html": [
       "<div>\n",
       "<style scoped>\n",
       "    .dataframe tbody tr th:only-of-type {\n",
       "        vertical-align: middle;\n",
       "    }\n",
       "\n",
       "    .dataframe tbody tr th {\n",
       "        vertical-align: top;\n",
       "    }\n",
       "\n",
       "    .dataframe thead th {\n",
       "        text-align: right;\n",
       "    }\n",
       "</style>\n",
       "<table border=\"1\" class=\"dataframe\">\n",
       "  <thead>\n",
       "    <tr style=\"text-align: right;\">\n",
       "      <th></th>\n",
       "      <th>gender</th>\n",
       "      <th>cough</th>\n",
       "      <th>city</th>\n",
       "      <th>has_covid</th>\n",
       "    </tr>\n",
       "  </thead>\n",
       "  <tbody>\n",
       "    <tr>\n",
       "      <th>0</th>\n",
       "      <td>Male</td>\n",
       "      <td>Mild</td>\n",
       "      <td>Kolkata</td>\n",
       "      <td>No</td>\n",
       "    </tr>\n",
       "    <tr>\n",
       "      <th>1</th>\n",
       "      <td>Male</td>\n",
       "      <td>Mild</td>\n",
       "      <td>Delhi</td>\n",
       "      <td>Yes</td>\n",
       "    </tr>\n",
       "    <tr>\n",
       "      <th>2</th>\n",
       "      <td>Male</td>\n",
       "      <td>Mild</td>\n",
       "      <td>Delhi</td>\n",
       "      <td>No</td>\n",
       "    </tr>\n",
       "    <tr>\n",
       "      <th>3</th>\n",
       "      <td>Female</td>\n",
       "      <td>Mild</td>\n",
       "      <td>Kolkata</td>\n",
       "      <td>No</td>\n",
       "    </tr>\n",
       "    <tr>\n",
       "      <th>4</th>\n",
       "      <td>Female</td>\n",
       "      <td>Mild</td>\n",
       "      <td>Mumbai</td>\n",
       "      <td>No</td>\n",
       "    </tr>\n",
       "  </tbody>\n",
       "</table>\n",
       "</div>"
      ],
      "text/plain": [
       "   gender cough     city has_covid\n",
       "0    Male  Mild  Kolkata        No\n",
       "1    Male  Mild    Delhi       Yes\n",
       "2    Male  Mild    Delhi        No\n",
       "3  Female  Mild  Kolkata        No\n",
       "4  Female  Mild   Mumbai        No"
      ]
     },
     "execution_count": 78,
     "metadata": {},
     "output_type": "execute_result"
    }
   ],
   "source": [
    "df.head()"
   ]
  },
  {
   "cell_type": "code",
   "execution_count": 79,
   "id": "7d87db76",
   "metadata": {},
   "outputs": [
    {
     "data": {
      "text/plain": [
       "Kolkata      32\n",
       "Bangalore    30\n",
       "Delhi        22\n",
       "Mumbai       16\n",
       "Name: city, dtype: int64"
      ]
     },
     "execution_count": 79,
     "metadata": {},
     "output_type": "execute_result"
    }
   ],
   "source": [
    "df['city'].value_counts()"
   ]
  },
  {
   "cell_type": "code",
   "execution_count": 80,
   "id": "29bb239a",
   "metadata": {},
   "outputs": [
    {
     "data": {
      "text/plain": [
       "Mild      62\n",
       "Strong    38\n",
       "Name: cough, dtype: int64"
      ]
     },
     "execution_count": 80,
     "metadata": {},
     "output_type": "execute_result"
    }
   ],
   "source": [
    "df['cough'].value_counts()"
   ]
  },
  {
   "cell_type": "code",
   "execution_count": 81,
   "id": "aa4ff71e",
   "metadata": {},
   "outputs": [
    {
     "data": {
      "text/plain": [
       "Female    59\n",
       "Male      41\n",
       "Name: gender, dtype: int64"
      ]
     },
     "execution_count": 81,
     "metadata": {},
     "output_type": "execute_result"
    }
   ],
   "source": [
    "df['gender'].value_counts()"
   ]
  },
  {
   "cell_type": "code",
   "execution_count": 82,
   "id": "8a5f594c",
   "metadata": {},
   "outputs": [
    {
     "data": {
      "text/plain": [
       "No     55\n",
       "Yes    45\n",
       "Name: has_covid, dtype: int64"
      ]
     },
     "execution_count": 82,
     "metadata": {},
     "output_type": "execute_result"
    }
   ],
   "source": [
    "df['has_covid'].value_counts()"
   ]
  },
  {
   "cell_type": "code",
   "execution_count": 84,
   "id": "9e7470c9",
   "metadata": {},
   "outputs": [],
   "source": [
    "from sklearn.preprocessing import OrdinalEncoder"
   ]
  },
  {
   "cell_type": "code",
   "execution_count": 90,
   "id": "e07bbc96",
   "metadata": {},
   "outputs": [],
   "source": [
    "oe=OrdinalEncoder(categories=[['Male','Female'],['Mild','Strong'],['Kolkata','Bangalore','Delhi','Mumbai'],['Yes','No']])"
   ]
  },
  {
   "cell_type": "code",
   "execution_count": 91,
   "id": "82131ea7",
   "metadata": {},
   "outputs": [
    {
     "data": {
      "text/plain": [
       "OrdinalEncoder(categories=[['Male', 'Female'], ['Mild', 'Strong'],\n",
       "                           ['Kolkata', 'Bangalore', 'Delhi', 'Mumbai'],\n",
       "                           ['Yes', 'No']])"
      ]
     },
     "execution_count": 91,
     "metadata": {},
     "output_type": "execute_result"
    }
   ],
   "source": [
    "oe"
   ]
  },
  {
   "cell_type": "code",
   "execution_count": 92,
   "id": "4353f7d2",
   "metadata": {},
   "outputs": [
    {
     "data": {
      "text/plain": [
       "OrdinalEncoder(categories=[['Male', 'Female'], ['Mild', 'Strong'],\n",
       "                           ['Kolkata', 'Bangalore', 'Delhi', 'Mumbai'],\n",
       "                           ['Yes', 'No']])"
      ]
     },
     "execution_count": 92,
     "metadata": {},
     "output_type": "execute_result"
    }
   ],
   "source": [
    "oe.fit(df)"
   ]
  },
  {
   "cell_type": "code",
   "execution_count": 93,
   "id": "b75ebed9",
   "metadata": {},
   "outputs": [],
   "source": [
    "df_new=oe.transform(df)"
   ]
  },
  {
   "cell_type": "code",
   "execution_count": 94,
   "id": "383c9591",
   "metadata": {},
   "outputs": [
    {
     "data": {
      "text/plain": [
       "[array(['Male', 'Female'], dtype=object),\n",
       " array(['Mild', 'Strong'], dtype=object),\n",
       " array(['Kolkata', 'Bangalore', 'Delhi', 'Mumbai'], dtype=object),\n",
       " array(['Yes', 'No'], dtype=object)]"
      ]
     },
     "execution_count": 94,
     "metadata": {},
     "output_type": "execute_result"
    }
   ],
   "source": [
    "oe.categories_"
   ]
  },
  {
   "cell_type": "code",
   "execution_count": 97,
   "id": "c5d189eb",
   "metadata": {},
   "outputs": [],
   "source": [
    "df=pd.DataFrame(df_new,columns=df.columns)"
   ]
  },
  {
   "cell_type": "code",
   "execution_count": null,
   "id": "15b02800",
   "metadata": {},
   "outputs": [],
   "source": []
  },
  {
   "cell_type": "code",
   "execution_count": null,
   "id": "af3a78d7",
   "metadata": {},
   "outputs": [],
   "source": []
  },
  {
   "cell_type": "code",
   "execution_count": null,
   "id": "5542ec52",
   "metadata": {},
   "outputs": [],
   "source": []
  },
  {
   "cell_type": "code",
   "execution_count": null,
   "id": "2d432996",
   "metadata": {},
   "outputs": [],
   "source": []
  },
  {
   "cell_type": "code",
   "execution_count": null,
   "id": "9193257e",
   "metadata": {},
   "outputs": [],
   "source": []
  },
  {
   "cell_type": "code",
   "execution_count": null,
   "id": "cfab902a",
   "metadata": {},
   "outputs": [],
   "source": []
  },
  {
   "cell_type": "code",
   "execution_count": null,
   "id": "f68c0967",
   "metadata": {},
   "outputs": [],
   "source": []
  },
  {
   "cell_type": "code",
   "execution_count": null,
   "id": "bd461105",
   "metadata": {},
   "outputs": [],
   "source": []
  },
  {
   "cell_type": "code",
   "execution_count": null,
   "id": "644edb11",
   "metadata": {},
   "outputs": [],
   "source": []
  },
  {
   "cell_type": "code",
   "execution_count": null,
   "id": "1df89874",
   "metadata": {},
   "outputs": [],
   "source": []
  },
  {
   "cell_type": "code",
   "execution_count": null,
   "id": "cee6049b",
   "metadata": {},
   "outputs": [],
   "source": []
  },
  {
   "cell_type": "code",
   "execution_count": null,
   "id": "c1e0c531",
   "metadata": {},
   "outputs": [],
   "source": []
  },
  {
   "cell_type": "markdown",
   "id": "9aee22d4",
   "metadata": {},
   "source": [
    "# ********************************************************************************************************"
   ]
  },
  {
   "cell_type": "code",
   "execution_count": 33,
   "id": "fc540ad8",
   "metadata": {},
   "outputs": [],
   "source": [
    "df2=pd.read_csv('C:\\\\Users\\\\us\\\\OneDrive\\\\Desktop\\\\regexml\\\\insurance.csv')"
   ]
  },
  {
   "cell_type": "code",
   "execution_count": 34,
   "id": "ab25e658",
   "metadata": {},
   "outputs": [
    {
     "data": {
      "text/html": [
       "<div>\n",
       "<style scoped>\n",
       "    .dataframe tbody tr th:only-of-type {\n",
       "        vertical-align: middle;\n",
       "    }\n",
       "\n",
       "    .dataframe tbody tr th {\n",
       "        vertical-align: top;\n",
       "    }\n",
       "\n",
       "    .dataframe thead th {\n",
       "        text-align: right;\n",
       "    }\n",
       "</style>\n",
       "<table border=\"1\" class=\"dataframe\">\n",
       "  <thead>\n",
       "    <tr style=\"text-align: right;\">\n",
       "      <th></th>\n",
       "      <th>age</th>\n",
       "      <th>sex</th>\n",
       "      <th>bmi</th>\n",
       "      <th>children</th>\n",
       "      <th>smoker</th>\n",
       "      <th>region</th>\n",
       "      <th>charges</th>\n",
       "    </tr>\n",
       "  </thead>\n",
       "  <tbody>\n",
       "    <tr>\n",
       "      <th>0</th>\n",
       "      <td>19</td>\n",
       "      <td>female</td>\n",
       "      <td>27.900</td>\n",
       "      <td>0</td>\n",
       "      <td>yes</td>\n",
       "      <td>southwest</td>\n",
       "      <td>16884.92400</td>\n",
       "    </tr>\n",
       "    <tr>\n",
       "      <th>1</th>\n",
       "      <td>18</td>\n",
       "      <td>male</td>\n",
       "      <td>33.770</td>\n",
       "      <td>1</td>\n",
       "      <td>no</td>\n",
       "      <td>southeast</td>\n",
       "      <td>1725.55230</td>\n",
       "    </tr>\n",
       "    <tr>\n",
       "      <th>2</th>\n",
       "      <td>28</td>\n",
       "      <td>male</td>\n",
       "      <td>33.000</td>\n",
       "      <td>3</td>\n",
       "      <td>no</td>\n",
       "      <td>southeast</td>\n",
       "      <td>4449.46200</td>\n",
       "    </tr>\n",
       "    <tr>\n",
       "      <th>3</th>\n",
       "      <td>33</td>\n",
       "      <td>male</td>\n",
       "      <td>22.705</td>\n",
       "      <td>0</td>\n",
       "      <td>no</td>\n",
       "      <td>northwest</td>\n",
       "      <td>21984.47061</td>\n",
       "    </tr>\n",
       "    <tr>\n",
       "      <th>4</th>\n",
       "      <td>32</td>\n",
       "      <td>male</td>\n",
       "      <td>28.880</td>\n",
       "      <td>0</td>\n",
       "      <td>no</td>\n",
       "      <td>northwest</td>\n",
       "      <td>3866.85520</td>\n",
       "    </tr>\n",
       "  </tbody>\n",
       "</table>\n",
       "</div>"
      ],
      "text/plain": [
       "   age     sex     bmi  children smoker     region      charges\n",
       "0   19  female  27.900         0    yes  southwest  16884.92400\n",
       "1   18    male  33.770         1     no  southeast   1725.55230\n",
       "2   28    male  33.000         3     no  southeast   4449.46200\n",
       "3   33    male  22.705         0     no  northwest  21984.47061\n",
       "4   32    male  28.880         0     no  northwest   3866.85520"
      ]
     },
     "execution_count": 34,
     "metadata": {},
     "output_type": "execute_result"
    }
   ],
   "source": [
    "df2.head()"
   ]
  },
  {
   "cell_type": "code",
   "execution_count": 35,
   "id": "af78d7c7",
   "metadata": {},
   "outputs": [],
   "source": [
    "df2=df2.dropna()"
   ]
  },
  {
   "cell_type": "code",
   "execution_count": 38,
   "id": "295f9f0e",
   "metadata": {},
   "outputs": [],
   "source": [
    "from sklearn.preprocessing import MinMaxScaler\n",
    "from sklearn.model_selection import train_test_split"
   ]
  },
  {
   "cell_type": "code",
   "execution_count": 39,
   "id": "7b0c95fb",
   "metadata": {},
   "outputs": [
    {
     "data": {
      "text/html": [
       "<div>\n",
       "<style scoped>\n",
       "    .dataframe tbody tr th:only-of-type {\n",
       "        vertical-align: middle;\n",
       "    }\n",
       "\n",
       "    .dataframe tbody tr th {\n",
       "        vertical-align: top;\n",
       "    }\n",
       "\n",
       "    .dataframe thead th {\n",
       "        text-align: right;\n",
       "    }\n",
       "</style>\n",
       "<table border=\"1\" class=\"dataframe\">\n",
       "  <thead>\n",
       "    <tr style=\"text-align: right;\">\n",
       "      <th></th>\n",
       "      <th>age</th>\n",
       "      <th>sex</th>\n",
       "      <th>bmi</th>\n",
       "      <th>children</th>\n",
       "      <th>smoker</th>\n",
       "      <th>region</th>\n",
       "      <th>charges</th>\n",
       "    </tr>\n",
       "  </thead>\n",
       "  <tbody>\n",
       "    <tr>\n",
       "      <th>1051</th>\n",
       "      <td>64</td>\n",
       "      <td>1</td>\n",
       "      <td>26.410</td>\n",
       "      <td>0</td>\n",
       "      <td>0</td>\n",
       "      <td>0</td>\n",
       "      <td>14394.55790</td>\n",
       "    </tr>\n",
       "    <tr>\n",
       "      <th>1009</th>\n",
       "      <td>51</td>\n",
       "      <td>1</td>\n",
       "      <td>27.740</td>\n",
       "      <td>1</td>\n",
       "      <td>0</td>\n",
       "      <td>0</td>\n",
       "      <td>9957.72160</td>\n",
       "    </tr>\n",
       "    <tr>\n",
       "      <th>495</th>\n",
       "      <td>20</td>\n",
       "      <td>1</td>\n",
       "      <td>27.930</td>\n",
       "      <td>0</td>\n",
       "      <td>0</td>\n",
       "      <td>0</td>\n",
       "      <td>1967.02270</td>\n",
       "    </tr>\n",
       "    <tr>\n",
       "      <th>1192</th>\n",
       "      <td>58</td>\n",
       "      <td>0</td>\n",
       "      <td>32.395</td>\n",
       "      <td>1</td>\n",
       "      <td>0</td>\n",
       "      <td>0</td>\n",
       "      <td>13019.16105</td>\n",
       "    </tr>\n",
       "    <tr>\n",
       "      <th>601</th>\n",
       "      <td>51</td>\n",
       "      <td>1</td>\n",
       "      <td>31.635</td>\n",
       "      <td>0</td>\n",
       "      <td>0</td>\n",
       "      <td>1</td>\n",
       "      <td>9174.13565</td>\n",
       "    </tr>\n",
       "  </tbody>\n",
       "</table>\n",
       "</div>"
      ],
      "text/plain": [
       "      age  sex     bmi  children  smoker  region      charges\n",
       "1051   64    1  26.410         0       0       0  14394.55790\n",
       "1009   51    1  27.740         1       0       0   9957.72160\n",
       "495    20    1  27.930         0       0       0   1967.02270\n",
       "1192   58    0  32.395         1       0       0  13019.16105\n",
       "601    51    1  31.635         0       0       1   9174.13565"
      ]
     },
     "execution_count": 39,
     "metadata": {},
     "output_type": "execute_result"
    }
   ],
   "source": [
    "lb = LabelEncoder()\n",
    "df2['sex'] = lb.fit_transform(df2['sex'])\n",
    "df2['smoker'] = lb.fit_transform(df2['smoker'])\n",
    "df2['region'] = lb.fit_transform(df2['region'])\n",
    "df2.sample(5)"
   ]
  },
  {
   "cell_type": "code",
   "execution_count": 40,
   "id": "7f688d3a",
   "metadata": {},
   "outputs": [],
   "source": [
    "df2 = df2.drop(columns = ['sex', 'smoker', 'region'])"
   ]
  },
  {
   "cell_type": "code",
   "execution_count": 41,
   "id": "6a390115",
   "metadata": {},
   "outputs": [],
   "source": [
    "x= df2.drop(columns = ['charges'], axis = 1)\n",
    "y= df2['charges'] \n",
    "from sklearn.model_selection import train_test_split\n",
    "x_train, x_test, y_train, y_test = train_test_split(x, y, test_size = 0.2, random_state = 42)"
   ]
  },
  {
   "cell_type": "code",
   "execution_count": 42,
   "id": "c65ca04e",
   "metadata": {},
   "outputs": [
    {
     "data": {
      "text/html": [
       "<div>\n",
       "<style scoped>\n",
       "    .dataframe tbody tr th:only-of-type {\n",
       "        vertical-align: middle;\n",
       "    }\n",
       "\n",
       "    .dataframe tbody tr th {\n",
       "        vertical-align: top;\n",
       "    }\n",
       "\n",
       "    .dataframe thead th {\n",
       "        text-align: right;\n",
       "    }\n",
       "</style>\n",
       "<table border=\"1\" class=\"dataframe\">\n",
       "  <thead>\n",
       "    <tr style=\"text-align: right;\">\n",
       "      <th></th>\n",
       "      <th>age</th>\n",
       "      <th>bmi</th>\n",
       "      <th>children</th>\n",
       "    </tr>\n",
       "  </thead>\n",
       "  <tbody>\n",
       "    <tr>\n",
       "      <th>count</th>\n",
       "      <td>1070.0</td>\n",
       "      <td>1070.0</td>\n",
       "      <td>1070.0</td>\n",
       "    </tr>\n",
       "    <tr>\n",
       "      <th>mean</th>\n",
       "      <td>39.4</td>\n",
       "      <td>30.6</td>\n",
       "      <td>1.1</td>\n",
       "    </tr>\n",
       "    <tr>\n",
       "      <th>std</th>\n",
       "      <td>14.1</td>\n",
       "      <td>6.0</td>\n",
       "      <td>1.2</td>\n",
       "    </tr>\n",
       "    <tr>\n",
       "      <th>min</th>\n",
       "      <td>18.0</td>\n",
       "      <td>16.0</td>\n",
       "      <td>0.0</td>\n",
       "    </tr>\n",
       "    <tr>\n",
       "      <th>25%</th>\n",
       "      <td>27.0</td>\n",
       "      <td>26.2</td>\n",
       "      <td>0.0</td>\n",
       "    </tr>\n",
       "    <tr>\n",
       "      <th>50%</th>\n",
       "      <td>39.5</td>\n",
       "      <td>30.2</td>\n",
       "      <td>1.0</td>\n",
       "    </tr>\n",
       "    <tr>\n",
       "      <th>75%</th>\n",
       "      <td>51.0</td>\n",
       "      <td>34.5</td>\n",
       "      <td>2.0</td>\n",
       "    </tr>\n",
       "    <tr>\n",
       "      <th>max</th>\n",
       "      <td>64.0</td>\n",
       "      <td>53.1</td>\n",
       "      <td>5.0</td>\n",
       "    </tr>\n",
       "  </tbody>\n",
       "</table>\n",
       "</div>"
      ],
      "text/plain": [
       "          age     bmi  children\n",
       "count  1070.0  1070.0    1070.0\n",
       "mean     39.4    30.6       1.1\n",
       "std      14.1     6.0       1.2\n",
       "min      18.0    16.0       0.0\n",
       "25%      27.0    26.2       0.0\n",
       "50%      39.5    30.2       1.0\n",
       "75%      51.0    34.5       2.0\n",
       "max      64.0    53.1       5.0"
      ]
     },
     "execution_count": 42,
     "metadata": {},
     "output_type": "execute_result"
    }
   ],
   "source": [
    "from sklearn.preprocessing import MinMaxScaler\n",
    "mn = MinMaxScaler()\n",
    "x_train_mn = mn.fit_transform(x_train)\n",
    "x_train_new = pd. DataFrame(x_train_mn, columns = x_train.columns)\n",
    "np.round(x_train.describe(), 1)"
   ]
  },
  {
   "cell_type": "code",
   "execution_count": 43,
   "id": "046f2795",
   "metadata": {},
   "outputs": [
    {
     "data": {
      "text/html": [
       "<div>\n",
       "<style scoped>\n",
       "    .dataframe tbody tr th:only-of-type {\n",
       "        vertical-align: middle;\n",
       "    }\n",
       "\n",
       "    .dataframe tbody tr th {\n",
       "        vertical-align: top;\n",
       "    }\n",
       "\n",
       "    .dataframe thead th {\n",
       "        text-align: right;\n",
       "    }\n",
       "</style>\n",
       "<table border=\"1\" class=\"dataframe\">\n",
       "  <thead>\n",
       "    <tr style=\"text-align: right;\">\n",
       "      <th></th>\n",
       "      <th>age</th>\n",
       "      <th>bmi</th>\n",
       "      <th>children</th>\n",
       "    </tr>\n",
       "  </thead>\n",
       "  <tbody>\n",
       "    <tr>\n",
       "      <th>count</th>\n",
       "      <td>1070.0</td>\n",
       "      <td>1070.0</td>\n",
       "      <td>1070.0</td>\n",
       "    </tr>\n",
       "    <tr>\n",
       "      <th>mean</th>\n",
       "      <td>0.5</td>\n",
       "      <td>0.4</td>\n",
       "      <td>0.2</td>\n",
       "    </tr>\n",
       "    <tr>\n",
       "      <th>std</th>\n",
       "      <td>0.3</td>\n",
       "      <td>0.2</td>\n",
       "      <td>0.2</td>\n",
       "    </tr>\n",
       "    <tr>\n",
       "      <th>min</th>\n",
       "      <td>0.0</td>\n",
       "      <td>0.0</td>\n",
       "      <td>0.0</td>\n",
       "    </tr>\n",
       "    <tr>\n",
       "      <th>25%</th>\n",
       "      <td>0.2</td>\n",
       "      <td>0.3</td>\n",
       "      <td>0.0</td>\n",
       "    </tr>\n",
       "    <tr>\n",
       "      <th>50%</th>\n",
       "      <td>0.5</td>\n",
       "      <td>0.4</td>\n",
       "      <td>0.2</td>\n",
       "    </tr>\n",
       "    <tr>\n",
       "      <th>75%</th>\n",
       "      <td>0.7</td>\n",
       "      <td>0.5</td>\n",
       "      <td>0.4</td>\n",
       "    </tr>\n",
       "    <tr>\n",
       "      <th>max</th>\n",
       "      <td>1.0</td>\n",
       "      <td>1.0</td>\n",
       "      <td>1.0</td>\n",
       "    </tr>\n",
       "  </tbody>\n",
       "</table>\n",
       "</div>"
      ],
      "text/plain": [
       "          age     bmi  children\n",
       "count  1070.0  1070.0    1070.0\n",
       "mean      0.5     0.4       0.2\n",
       "std       0.3     0.2       0.2\n",
       "min       0.0     0.0       0.0\n",
       "25%       0.2     0.3       0.0\n",
       "50%       0.5     0.4       0.2\n",
       "75%       0.7     0.5       0.4\n",
       "max       1.0     1.0       1.0"
      ]
     },
     "execution_count": 43,
     "metadata": {},
     "output_type": "execute_result"
    }
   ],
   "source": [
    "np.round(x_train_new.describe(), 1)"
   ]
  },
  {
   "cell_type": "code",
   "execution_count": null,
   "id": "a3645302",
   "metadata": {},
   "outputs": [],
   "source": []
  }
 ],
 "metadata": {
  "kernelspec": {
   "display_name": "Python 3",
   "language": "python",
   "name": "python3"
  },
  "language_info": {
   "codemirror_mode": {
    "name": "ipython",
    "version": 3
   },
   "file_extension": ".py",
   "mimetype": "text/x-python",
   "name": "python",
   "nbconvert_exporter": "python",
   "pygments_lexer": "ipython3",
   "version": "3.8.8"
  }
 },
 "nbformat": 4,
 "nbformat_minor": 5
}
